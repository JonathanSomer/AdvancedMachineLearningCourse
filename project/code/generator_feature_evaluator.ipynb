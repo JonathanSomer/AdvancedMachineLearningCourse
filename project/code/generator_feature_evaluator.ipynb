{
 "cells": [
  {
   "cell_type": "code",
   "execution_count": 29,
   "metadata": {},
   "outputs": [],
   "source": [
    "import collect\n",
    "from mnist_data import MnistData\n",
    "from mnist_classifier import MnistClassifier\n",
    "from collections import defaultdict\n",
    "\n",
    "\n",
    "from cifar_data import Cifar10Data\n",
    "from cifar_classifier import Cifar10Classifier\n",
    "\n",
    "data_dispatch = {'mnist': MnistData, 'cifar10': Cifar10Data, 'cifar': Cifar10Data}\n",
    "classifier_dispatch = {'mnist': MnistClassifier, 'cifar10': Cifar10Classifier, 'cifar': Cifar10Classifier}"
   ]
  },
  {
   "cell_type": "markdown",
   "metadata": {},
   "source": [
    "## Load data \n",
    "#### (changable by dataset_name)"
   ]
  },
  {
   "cell_type": "code",
   "execution_count": 87,
   "metadata": {},
   "outputs": [],
   "source": [
    "dataset_name = 'mnist'\n",
    "\n",
    "DATASET_TYPE = data_dispatch[dataset_name]\n",
    "CLASSIFIER_TYPE = classifier_dispatch[dataset_name]\n",
    "\n",
    "features_data = DATASET_TYPE(use_features=True)\n",
    "raw_data =DATASET_TYPE(use_features=False)\n",
    "\n",
    "features, features_labels = features_data._features_and_labels()\n",
    "images, raw_labels = raw_data._features_and_labels()\n",
    "\n",
    "n_clusters = 30\n",
    "data = collect.load_quadruplets(n_clusters, dataset_name=dataset_name)\n",
    "quadruplets, cat_to_centroids, cat_to_vectors, original_shape = data"
   ]
  },
  {
   "cell_type": "code",
   "execution_count": 109,
   "metadata": {},
   "outputs": [],
   "source": [
    "import numpy as np\n",
    "\n",
    "from scipy.spatial.distance import cosine\n",
    "\n",
    "\n",
    "def norm_measure(u, v):\n",
    "    return np.linalg.norm(u - v)\n",
    "\n",
    "# features, and centroids from same class\n",
    "def get_map_centroid_index_to_features(features, centroids):\n",
    "    map_centroid_to_features = defaultdict(list)\n",
    "    \n",
    "    for f in features:\n",
    "        distances = [cosine(f, c) for c in centroids]\n",
    "        closest_centroid_index = np.argmin(distances)\n",
    "        map_centroid_to_features[closest_centroid_index].append((f, min(distances)))\n",
    "    \n",
    "\n",
    "    return map_centroid_to_features\n",
    "\n",
    "def barplot_feature_centroids(ϕ, category, distance_measure=cosine):        \n",
    "    centroids = cat_to_centroids[category]\n",
    "    \n",
    "    distances = np.array([1/distance_measure(ϕ, centroid) for centroid in centroids])\n",
    "    return distances\n",
    "#     argsort = np.argsort(distances)\n",
    "#     return argsort, centroids\n"
   ]
  },
  {
   "cell_type": "code",
   "execution_count": 95,
   "metadata": {},
   "outputs": [],
   "source": [
    "%matplotlib inline\n",
    "\n",
    "import matplotlib.pyplot as plt\n",
    "\n",
    "# plt.switch_backend('agg')\n",
    "\n",
    "# plt.rcParams[\"figure.figsize\"] = [20, 2]\n",
    "\n",
    "def add_image_to_figure(vector, width=28, height=28):\n",
    "    fig = plt.imshow(np.reshape(vector, (height, width)), interpolation='nearest')\n",
    "    fig.axes.get_xaxis().set_visible(False)\n",
    "    fig.axes.get_yaxis().set_visible(False)\n",
    "\n",
    "\n",
    "def add_images_to_figure(vectors, titles=None, n_cols=4, width=28, height=28):\n",
    "    n_rows = len(vectors) / n_cols if len(vectors) % n_cols == 0 else (len(vectors) / n_cols) + 1\n",
    "#     for i, (vector, title) in enumerate(zip(vectors, titles)):\n",
    "#         plt.subplot(n_rows, n_cols, i + 1)\n",
    "#         plt.title(title)\n",
    "#         add_image_to_figure(vector.astype(float), height, width)\n",
    "    for i, vector in enumerate(vectors):\n",
    "        plt.subplot(n_rows, n_cols, i + 1)\n",
    "        add_image_to_figure(vector.astype(float), height, width)\n",
    "    \n",
    "    plt.tight_layout()\n",
    "    \n",
    "def feature_to_index(feature, features):\n",
    "    for i, f in enumerate(features):\n",
    "        if feature == f:\n",
    "            return i\n",
    "    \n",
    "    return None"
   ]
  },
  {
   "cell_type": "code",
   "execution_count": 96,
   "metadata": {},
   "outputs": [
    {
     "name": "stdout",
     "output_type": "stream",
     "text": [
      "Removed class # 6\n",
      "current number of examples per class -- train:\n",
      " {0: 5923, 1: 6742, 2: 5958, 3: 6131, 4: 5842, 5: 5421, 7: 6265, 8: 5851, 9: 5949}\n",
      "\n",
      "current number of examples per class -- test:\n",
      " {0: 878, 1: 1016, 2: 933, 3: 908, 4: 890, 5: 807, 7: 913, 8: 880, 9: 919}\n",
      "num of samples - 3000\n",
      "num of centroids - 30\n"
     ]
    }
   ],
   "source": [
    "USE_FEATURES=  True\n",
    "CLASS_REMOVED = 6\n",
    "\n",
    "cls = CLASSIFIER_TYPE(use_features = USE_FEATURES, epochs = EPOCHS)\n",
    "d = DATASET_TYPE(use_features=USE_FEATURES, class_removed=CLASS_REMOVED)\n",
    "d.set_removed_class(CLASS_REMOVED)\n",
    "\n",
    "features = d.get_n_samples(3000)\n",
    "centroids = cat_to_centroids[CLASS_REMOVED]\n",
    "print('num of samples - %d' % len(features))\n",
    "print('num of centroids - %d' % len(centroids))\n",
    "\n",
    "centroid_map = get_map_centroid_index_to_features(features, centroids)"
   ]
  },
  {
   "cell_type": "code",
   "execution_count": 119,
   "metadata": {},
   "outputs": [
    {
     "name": "stdout",
     "output_type": "stream",
     "text": [
      "centroid map size is 14 \n",
      "19 - 452\n",
      "22 - 801\n",
      "29 - 272\n",
      "1 - 863\n",
      "7 - 557\n",
      "2 - 36\n",
      "14 - 1\n",
      "18 - 8\n",
      "11 - 2\n",
      "12 - 1\n",
      "24 - 1\n",
      "21 - 2\n",
      "6 - 1\n",
      "4 - 3\n"
     ]
    }
   ],
   "source": [
    "####sanity!\n",
    "print('centroid map size is %d ' % len(centroid_map.keys()))\n",
    "#len(centroid_map[2])\n",
    "for i in centroid_map.keys():\n",
    "    print('%d - %d' % (i, len(centroid_map[i])))\n",
    "\n",
    "print(sum([len(centroid_map[i]) for i in centroid_map.keys()]))"
   ]
  },
  {
   "cell_type": "code",
   "execution_count": 121,
   "metadata": {},
   "outputs": [
    {
     "data": {
      "image/png": "[encoded data removed]",
      "text/plain": [
       "<matplotlib.figure.Figure at 0x7fb8052fbb38>"
      ]
     },
     "metadata": {},
     "output_type": "display_data"
    }
   ],
   "source": [
    "feature = centroid_map[22][8][0]\n",
    "distances = barplot_feature_centroids(feature, CLASS_REMOVED)\n",
    "\n",
    "%matplotlib inline\n",
    "\n",
    "import matplotlib.pyplot as plt\n",
    "import pandas as pd\n",
    "\n",
    "df = pd.DataFrame(distances)\n",
    "\n",
    "df.plot(kind='bar', figsize=(10, 10))\n",
    "\n",
    "plt.show()"
   ]
  }
 ],
 "metadata": {
  "kernelspec": {
   "display_name": "Python 3",
   "language": "python",
   "name": "python3"
  },
  "language_info": {
   "codemirror_mode": {
    "name": "ipython",
    "version": 3
   },
   "file_extension": ".py",
   "mimetype": "text/x-python",
   "name": "python",
   "nbconvert_exporter": "python",
   "pygments_lexer": "ipython3",
   "version": "3.6.4"
  }
 },
 "nbformat": 4,
 "nbformat_minor": 2
}
