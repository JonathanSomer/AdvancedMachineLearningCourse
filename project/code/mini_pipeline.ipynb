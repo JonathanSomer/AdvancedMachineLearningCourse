{
 "cells": [
  {
   "cell_type": "code",
   "execution_count": 1,
   "metadata": {},
   "outputs": [
    {
     "name": "stderr",
     "output_type": "stream",
     "text": [
      "/home/shared/anaconda3/lib/python3.6/site-packages/h5py/__init__.py:36: FutureWarning: Conversion of the second argument of issubdtype from `float` to `np.floating` is deprecated. In future, it will be treated as `np.float64 == np.dtype(float).type`.\n",
      "  from ._conv import register_converters as _register_converters\n",
      "Using TensorFlow backend.\n"
     ]
    }
   ],
   "source": [
    "from mnist_data import *\n",
    "from mnist_classifier import *\n",
    "from cifar_data import *\n",
    "from cifar_classifier import *"
   ]
  },
  {
   "cell_type": "code",
   "execution_count": 2,
   "metadata": {},
   "outputs": [],
   "source": [
    "USE_FEATURES = True\n",
    "DATASET_TYPE = Cifar10Data\n",
    "CLASSIFIER_TYPE = Cifar10Classifier\n",
    "CLASS_REMOVED = 3\n",
    "EPOCHS = 3\n",
    "\n",
    "cls_generator = CLASSIFIER_TYPE(use_features = USE_FEATURES, epochs = EPOCHS)"
   ]
  },
  {
   "cell_type": "code",
   "execution_count": 3,
   "metadata": {},
   "outputs": [],
   "source": [
    "d_generator = DATASET_TYPE(use_features=USE_FEATURES, class_removed=CLASS_REMOVED)\n",
    "\n",
    "# assert len(np.unique(np.argmax(d.into_fit()[1], axis=1))) == 10\n",
    "# assert len(np.unique(np.argmax(d.into_fit()[3], axis=1))) == 10"
   ]
  },
  {
   "cell_type": "code",
   "execution_count": 4,
   "metadata": {},
   "outputs": [
    {
     "name": "stdout",
     "output_type": "stream",
     "text": [
      "Removed class # 3\n",
      "current number of examples per class -- train:\n",
      " {0: 5000, 1: 5000, 2: 5000, 4: 5000, 5: 5000, 6: 5000, 7: 5000, 8: 5000, 9: 5000}\n",
      "\n",
      "current number of examples per class -- test:\n",
      " {0: 893, 1: 904, 2: 900, 4: 909, 5: 898, 6: 909, 7: 891, 8: 896, 9: 887}\n"
     ]
    }
   ],
   "source": [
    "d_generator.set_removed_class(CLASS_REMOVED)\n",
    "\n",
    "# assert len(np.unique(np.argmax(d.into_fit()[1], axis=1))) == 9\n",
    "# assert len(np.unique(np.argmax(d.into_fit()[3], axis=1))) == 9\n"
   ]
  },
  {
   "cell_type": "code",
   "execution_count": 5,
   "metadata": {},
   "outputs": [
    {
     "name": "stdout",
     "output_type": "stream",
     "text": [
      "WARNING:tensorflow:Variable *= will be deprecated. Use variable.assign_mul if you want assignment to the variable value or 'x = x * y' if you want a new python Tensor object.\n",
      "Train on 45000 samples, validate on 8087 samples\n",
      "Epoch 1/3\n",
      "45000/45000 [==============================] - 2s 51us/step - loss: 0.2350 - acc: 0.9637 - val_loss: 0.3119 - val_acc: 0.8966\n",
      "Epoch 2/3\n",
      "45000/45000 [==============================] - 2s 34us/step - loss: 0.0386 - acc: 0.9950 - val_loss: 0.3288 - val_acc: 0.8984\n",
      "Epoch 3/3\n",
      "45000/45000 [==============================] - 1s 33us/step - loss: 0.0193 - acc: 0.9983 - val_loss: 0.3519 - val_acc: 0.8979\n"
     ]
    }
   ],
   "source": [
    "cls_generator.fit(*d_generator.into_fit())"
   ]
  },
  {
   "cell_type": "code",
   "execution_count": 6,
   "metadata": {},
   "outputs": [
    {
     "name": "stdout",
     "output_type": "stream",
     "text": [
      "Classifier was set to NOT trainable!\n"
     ]
    }
   ],
   "source": [
    "cls_generator.set_trainability(is_trainable=False)"
   ]
  },
  {
   "cell_type": "code",
   "execution_count": 7,
   "metadata": {},
   "outputs": [
    {
     "name": "stdout",
     "output_type": "stream",
     "text": [
      "Fitting generator\n",
      "Epoch 1/2\n",
      "62640/62640 [==============================] - 6s 94us/step - loss: 0.0313 - generator_loss: 0.0247 - classifier_loss: 0.0379 - generator_acc: 0.0079 - classifier_acc: 0.9902\n",
      "Epoch 2/2\n",
      "62640/62640 [==============================] - 6s 91us/step - loss: 0.0091 - generator_loss: 0.0170 - classifier_loss: 0.0013 - generator_acc: 0.0468 - classifier_acc: 1.0000\n"
     ]
    }
   ],
   "source": [
    "from generator import *\n",
    "generator = LowShotGenerator(cls_generator.model,\n",
    "                             d_generator,\n",
    "                             epochs=2,\n",
    "                             n_clusters=30,\n",
    "                             λ=0.5,\n",
    "                             hidden_size=256)"
   ]
  },
  {
   "cell_type": "code",
   "execution_count": 8,
   "metadata": {},
   "outputs": [],
   "source": [
    "# n_samples = d.get_n_samples(1)"
   ]
  },
  {
   "cell_type": "code",
   "execution_count": 9,
   "metadata": {},
   "outputs": [],
   "source": [
    "# generated_data, triplets = generator.generate_from_samples(n_samples, n_total=20, return_triplets= True)"
   ]
  },
  {
   "cell_type": "code",
   "execution_count": 10,
   "metadata": {},
   "outputs": [],
   "source": [
    "# import matplotlib.pyplot as plt\n",
    "\n",
    "# def add_image_to_figure(vector, width=28, height=28):\n",
    "#     fig = plt.imshow(np.reshape(vector, (height, width)), interpolation='nearest')\n",
    "#     fig.axes.get_xaxis().set_visible(False)\n",
    "#     fig.axes.get_yaxis().set_visible(False)"
   ]
  },
  {
   "cell_type": "code",
   "execution_count": 11,
   "metadata": {},
   "outputs": [],
   "source": [
    "# I = 2"
   ]
  },
  {
   "cell_type": "code",
   "execution_count": 12,
   "metadata": {},
   "outputs": [],
   "source": [
    "# add_image_to_figure(generated_data[I], width=64, height=32)"
   ]
  },
  {
   "cell_type": "code",
   "execution_count": 13,
   "metadata": {},
   "outputs": [],
   "source": [
    "# add_image_to_figure(n_samples[0], width=64, height=32)"
   ]
  },
  {
   "cell_type": "code",
   "execution_count": 14,
   "metadata": {},
   "outputs": [],
   "source": [
    "# add_image_to_figure(triplets[I][2], width=64, height=32)"
   ]
  },
  {
   "cell_type": "code",
   "execution_count": 15,
   "metadata": {},
   "outputs": [],
   "source": [
    "# add_image_to_figure(triplets[I][1], width=64, height=32)"
   ]
  },
  {
   "cell_type": "code",
   "execution_count": 16,
   "metadata": {},
   "outputs": [],
   "source": [
    "all_d = DATASET_TYPE(use_features = USE_FEATURES, class_removed = CLASS_REMOVED)\n",
    "all_cls = CLASSIFIER_TYPE(use_features = USE_FEATURES, epochs = EPOCHS)"
   ]
  },
  {
   "cell_type": "code",
   "execution_count": 17,
   "metadata": {},
   "outputs": [
    {
     "name": "stdout",
     "output_type": "stream",
     "text": [
      "Train on 50000 samples, validate on 9000 samples\n",
      "Epoch 1/3\n",
      "50000/50000 [==============================] - 2s 36us/step - loss: 0.3839 - acc: 0.9001 - val_loss: 0.4468 - val_acc: 0.8446\n",
      "Epoch 2/3\n",
      "50000/50000 [==============================] - 2s 32us/step - loss: 0.1719 - acc: 0.9437 - val_loss: 0.4540 - val_acc: 0.8449\n",
      "Epoch 3/3\n",
      "50000/50000 [==============================] - 2s 32us/step - loss: 0.1408 - acc: 0.9528 - val_loss: 0.4661 - val_acc: 0.8454\n"
     ]
    }
   ],
   "source": [
    "all_cls.fit(*all_d.into_fit())"
   ]
  },
  {
   "cell_type": "code",
   "execution_count": 18,
   "metadata": {},
   "outputs": [
    {
     "name": "stdout",
     "output_type": "stream",
     "text": [
      "9000/9000 [==============================] - 0s 53us/step\n",
      "Test loss: 0.46610726385646395\n",
      "Test accuracy: 0.8454444444444444\n"
     ]
    },
    {
     "data": {
      "text/plain": [
       "[0.46610726385646395, 0.8454444444444444]"
      ]
     },
     "execution_count": 18,
     "metadata": {},
     "output_type": "execute_result"
    }
   ],
   "source": [
    "all_cls.evaluate(*all_d.into_evaluate())"
   ]
  },
  {
   "cell_type": "code",
   "execution_count": 19,
   "metadata": {},
   "outputs": [],
   "source": [
    "# for i in range(10):\n",
    "#     samples = all_d.into_evaluate_one_class(class_index=i)[0]\n",
    "#     all_cls.evaluate(samples, all_d._one_hot_encode(np.repeat(i, len(samples))))"
   ]
  },
  {
   "cell_type": "markdown",
   "metadata": {},
   "source": [
    "# IS GENERATED DATA IN THE CORRECT CLASS"
   ]
  },
  {
   "cell_type": "code",
   "execution_count": 20,
   "metadata": {},
   "outputs": [
    {
     "name": "stdout",
     "output_type": "stream",
     "text": [
      "5/5 [==============================] - 0s 312us/step\n",
      "Test loss: 1.3896974325180054\n",
      "Test accuracy: 0.4000000059604645\n",
      "Selecting category randomally\n",
      "Selecting centroids randomally\n",
      "5/5 [==============================] - 0s 290us/step\n",
      "Test loss: 1.6103862524032593\n",
      "Test accuracy: 0.0\n"
     ]
    },
    {
     "data": {
      "text/plain": [
       "[1.6103862524032593, 0.0]"
      ]
     },
     "execution_count": 20,
     "metadata": {},
     "output_type": "execute_result"
    }
   ],
   "source": [
    "in_class_mask = all_d.y_dev == CLASS_REMOVED\n",
    "all_samples = all_d.x_dev[in_class_mask]\n",
    "\n",
    "samples = all_samples[:5]\n",
    "all_cls.evaluate(samples, all_d._one_hot_encode(np.repeat(CLASS_REMOVED, len(samples))))\n",
    "\n",
    "\n",
    "generated_data = generator.generate_from_samples(samples, n_total=1000)\n",
    "all_cls.evaluate(generated_data, all_d._one_hot_encode(np.repeat(CLASS_REMOVED, len(generated_data))))"
   ]
  },
  {
   "cell_type": "code",
   "execution_count": 21,
   "metadata": {},
   "outputs": [
    {
     "name": "stdout",
     "output_type": "stream",
     "text": [
      "Removed class # 3\n",
      "current number of examples per class -- train:\n",
      " {0: 5000, 1: 5000, 2: 5000, 4: 5000, 5: 5000, 6: 5000, 7: 5000, 8: 5000, 9: 5000}\n",
      "\n",
      "current number of examples per class -- test:\n",
      " {0: 893, 1: 904, 2: 900, 4: 909, 5: 898, 6: 909, 7: 891, 8: 896, 9: 887}\n",
      "TRAIN:\n",
      "{0: 5001, 1: 5001, 2: 5001, 3: 5001, 4: 5001, 5: 5001, 6: 5001, 7: 5001, 8: 5001, 9: 5001}\n",
      "TEST:\n",
      "{0: 893, 1: 904, 2: 900, 3: 913, 4: 909, 5: 898, 6: 909, 7: 891, 8: 896, 9: 887}\n"
     ]
    }
   ],
   "source": [
    "FIX = True\n",
    "\n",
    "d = DATASET_TYPE(use_features=USE_FEATURES, class_removed=CLASS_REMOVED)\n",
    "cls = CLASSIFIER_TYPE(use_features = USE_FEATURES, epochs = EPOCHS)\n",
    "\n",
    "\n",
    "\n",
    "d.set_removed_class(CLASS_REMOVED)\n",
    "\n",
    "d.set_generated_data(np.concatenate((samples, generated_data)))\n",
    "\n",
    "\n",
    "\n",
    "test_unique, test_counts = np.unique(d._one_hot_decode(d.into_fit(fix_class_imbalance = FIX)[1]), return_counts=True)\n",
    "print(\"TRAIN:\")\n",
    "print(dict(zip(test_unique, test_counts)))\n",
    "\n",
    "test_unique, test_counts = np.unique(d._one_hot_decode(d.into_fit(fix_class_imbalance = FIX)[3]), return_counts=True)\n",
    "print(\"TEST:\")\n",
    "print(dict(zip(test_unique, test_counts)))\n",
    "\n",
    "\n",
    "\n",
    "\n",
    "\n"
   ]
  },
  {
   "cell_type": "code",
   "execution_count": 22,
   "metadata": {},
   "outputs": [
    {
     "name": "stdout",
     "output_type": "stream",
     "text": [
      "BBBBB\n",
      "{0: 893, 1: 904, 2: 900, 3: 913, 4: 909, 5: 898, 6: 909, 7: 891, 8: 896, 9: 887}\n"
     ]
    }
   ],
   "source": [
    "test_unique, test_counts = np.unique(d._one_hot_decode(d.into_evaluate()[1]), return_counts=True)\n",
    "print(\"BBBBB\")\n",
    "print(dict(zip(test_unique, test_counts)))"
   ]
  },
  {
   "cell_type": "code",
   "execution_count": 23,
   "metadata": {},
   "outputs": [
    {
     "name": "stdout",
     "output_type": "stream",
     "text": [
      "Train on 50010 samples, validate on 9000 samples\n",
      "Epoch 1/3\n",
      "50010/50010 [==============================] - 2s 36us/step - loss: 0.2370 - acc: 0.9656 - val_loss: 1.0670 - val_acc: 0.8044\n",
      "Epoch 2/3\n",
      "50010/50010 [==============================] - 2s 32us/step - loss: 0.0277 - acc: 0.9972 - val_loss: 1.3599 - val_acc: 0.8054\n",
      "Epoch 3/3\n",
      "50010/50010 [==============================] - 2s 33us/step - loss: 0.0119 - acc: 0.9993 - val_loss: 1.5933 - val_acc: 0.8066\n"
     ]
    }
   ],
   "source": [
    "cls.fit(*d.into_fit(fix_class_imbalance = FIX))\n",
    "# cls.predict(d.into_evaluate_one_class(CLASS_REMOVED)[0])"
   ]
  },
  {
   "cell_type": "code",
   "execution_count": 24,
   "metadata": {},
   "outputs": [
    {
     "name": "stdout",
     "output_type": "stream",
     "text": [
      "5/5 [==============================] - 0s 361us/step\n",
      "Test loss: 5.3371732064988464e-05\n",
      "Test accuracy: 1.0\n",
      "5/5 [==============================] - 0s 292us/step\n",
      "Test loss: 0.00016177052748389542\n",
      "Test accuracy: 1.0\n"
     ]
    },
    {
     "data": {
      "text/plain": [
       "[0.00016177052748389542, 1.0]"
      ]
     },
     "execution_count": 24,
     "metadata": {},
     "output_type": "execute_result"
    }
   ],
   "source": [
    "cls.evaluate(samples, d._one_hot_encode(np.repeat(CLASS_REMOVED,len(samples))))\n",
    "cls.evaluate(generated_data, d._one_hot_encode(np.repeat(CLASS_REMOVED,len(generated_data))))"
   ]
  },
  {
   "cell_type": "markdown",
   "metadata": {},
   "source": [
    "# RESULTS WITH GENERATED:"
   ]
  },
  {
   "cell_type": "code",
   "execution_count": 25,
   "metadata": {},
   "outputs": [
    {
     "name": "stdout",
     "output_type": "stream",
     "text": [
      "913/913 [==============================] - 0s 49us/step\n",
      "Test loss: 12.432678926683073\n",
      "Test accuracy: 0.001095290251916758\n"
     ]
    },
    {
     "data": {
      "text/plain": [
       "[12.432678926683073, 0.001095290251916758]"
      ]
     },
     "execution_count": 25,
     "metadata": {},
     "output_type": "execute_result"
    }
   ],
   "source": [
    "cls.evaluate(*d.into_evaluate_one_class(CLASS_REMOVED))"
   ]
  },
  {
   "cell_type": "code",
   "execution_count": 26,
   "metadata": {},
   "outputs": [
    {
     "data": {
      "text/plain": [
       "5"
      ]
     },
     "execution_count": 26,
     "metadata": {},
     "output_type": "execute_result"
    }
   ],
   "source": [
    "len(samples)\n",
    "len(generated_data)\n"
   ]
  },
  {
   "cell_type": "code",
   "execution_count": 27,
   "metadata": {},
   "outputs": [
    {
     "name": "stdout",
     "output_type": "stream",
     "text": [
      "AAAAA\n",
      "{0: 5001, 1: 5001, 2: 5001, 3: 5001, 4: 5001, 5: 5001, 6: 5001, 7: 5001, 8: 5001, 9: 5001}\n",
      "BBBBB\n",
      "{0: 893, 1: 904, 2: 900, 3: 913, 4: 909, 5: 898, 6: 909, 7: 891, 8: 896, 9: 887}\n",
      "Train on 50010 samples, validate on 9000 samples\n",
      "Epoch 1/3\n",
      "50010/50010 [==============================] - 2s 35us/step - loss: 0.2126 - acc: 0.9694 - val_loss: 1.2402 - val_acc: 0.8039\n",
      "Epoch 2/3\n",
      "50010/50010 [==============================] - 2s 32us/step - loss: 0.0277 - acc: 0.9972 - val_loss: 1.5701 - val_acc: 0.8058\n",
      "Epoch 3/3\n",
      "50010/50010 [==============================] - 2s 32us/step - loss: 0.0121 - acc: 0.9993 - val_loss: 1.7464 - val_acc: 0.8060\n"
     ]
    }
   ],
   "source": [
    "d.set_generated_data(samples)\n",
    "\n",
    "test_unique, test_counts = np.unique(d._one_hot_decode(d.into_fit(fix_class_imbalance = FIX)[1]), return_counts=True)\n",
    "print(\"AAAAA\")\n",
    "print(dict(zip(test_unique, test_counts)))\n",
    "\n",
    "test_unique, test_counts = np.unique(d._one_hot_decode(d.into_fit(fix_class_imbalance = FIX)[3]), return_counts=True)\n",
    "print(\"BBBBB\")\n",
    "print(dict(zip(test_unique, test_counts)))\n",
    "\n",
    "\n",
    "cls.fit(*d.into_fit(fix_class_imbalance = FIX))\n",
    "# cls.evaluate(*d.into_evaluate_one_class(CLASS_REMOVED))"
   ]
  },
  {
   "cell_type": "code",
   "execution_count": 28,
   "metadata": {},
   "outputs": [
    {
     "name": "stdout",
     "output_type": "stream",
     "text": [
      "5/5 [==============================] - 0s 286us/step\n",
      "Test loss: 1.394749915561988e-06\n",
      "Test accuracy: 1.0\n"
     ]
    },
    {
     "data": {
      "text/plain": [
       "[1.394749915561988e-06, 1.0]"
      ]
     },
     "execution_count": 28,
     "metadata": {},
     "output_type": "execute_result"
    }
   ],
   "source": [
    "cls.evaluate(samples, d._one_hot_encode(np.repeat(CLASS_REMOVED,len(samples))))"
   ]
  },
  {
   "cell_type": "code",
   "execution_count": 29,
   "metadata": {},
   "outputs": [
    {
     "name": "stdout",
     "output_type": "stream",
     "text": [
      "5/5 [==============================] - 0s 322us/step\n",
      "Test loss: 2.9003474712371826\n",
      "Test accuracy: 0.0\n"
     ]
    },
    {
     "data": {
      "text/plain": [
       "[2.9003474712371826, 0.0]"
      ]
     },
     "execution_count": 29,
     "metadata": {},
     "output_type": "execute_result"
    }
   ],
   "source": [
    "cls.evaluate(generated_data, d._one_hot_encode(np.repeat(CLASS_REMOVED,len(generated_data))))"
   ]
  },
  {
   "cell_type": "markdown",
   "metadata": {},
   "source": [
    "# RESULTS WITH SAMPLES ONLY"
   ]
  },
  {
   "cell_type": "code",
   "execution_count": 30,
   "metadata": {},
   "outputs": [
    {
     "name": "stdout",
     "output_type": "stream",
     "text": [
      "913/913 [==============================] - 0s 53us/step\n",
      "Test loss: 13.956647715197727\n",
      "Test accuracy: 0.0\n"
     ]
    },
    {
     "data": {
      "text/plain": [
       "[13.956647715197727, 0.0]"
      ]
     },
     "execution_count": 30,
     "metadata": {},
     "output_type": "execute_result"
    }
   ],
   "source": [
    "cls.evaluate(*d.into_evaluate_one_class(CLASS_REMOVED))"
   ]
  },
  {
   "cell_type": "code",
   "execution_count": 32,
   "metadata": {},
   "outputs": [
    {
     "name": "stdout",
     "output_type": "stream",
     "text": [
      "913/913 [==============================] - 0s 51us/step\n",
      "Test loss: 0.7902770680900733\n",
      "Test accuracy: 0.6900328590339795\n"
     ]
    },
    {
     "data": {
      "text/plain": [
       "[0.7902770680900733, 0.6900328590339795]"
      ]
     },
     "execution_count": 32,
     "metadata": {},
     "output_type": "execute_result"
    }
   ],
   "source": [
    "all_cls.evaluate(*d.into_evaluate_one_class(CLASS_REMOVED))"
   ]
  },
  {
   "cell_type": "code",
   "execution_count": null,
   "metadata": {},
   "outputs": [],
   "source": []
  },
  {
   "cell_type": "code",
   "execution_count": null,
   "metadata": {},
   "outputs": [],
   "source": []
  }
 ],
 "metadata": {
  "kernelspec": {
   "display_name": "low_shot",
   "language": "python",
   "name": "low_shot"
  },
  "language_info": {
   "codemirror_mode": {
    "name": "ipython",
    "version": 3
   },
   "file_extension": ".py",
   "mimetype": "text/x-python",
   "name": "python",
   "nbconvert_exporter": "python",
   "pygments_lexer": "ipython3",
   "version": "3.6.6"
  }
 },
 "nbformat": 4,
 "nbformat_minor": 2
}
