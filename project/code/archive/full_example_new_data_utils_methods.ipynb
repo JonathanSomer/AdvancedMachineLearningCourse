{
 "cells": [
  {
   "cell_type": "code",
   "execution_count": 1,
   "metadata": {},
   "outputs": [
    {
     "name": "stderr",
     "output_type": "stream",
     "text": [
      "/home/shared/anaconda3/lib/python3.6/site-packages/h5py/__init__.py:36: FutureWarning: Conversion of the second argument of issubdtype from `float` to `np.floating` is deprecated. In future, it will be treated as `np.float64 == np.dtype(float).type`.\n",
      "  from ._conv import register_converters as _register_converters\n",
      "Using TensorFlow backend.\n"
     ]
    }
   ],
   "source": [
    "from generator import LowShotGenerator\n",
    "from data_utils import *\n",
    "from sklearn.model_selection import train_test_split\n",
    "import pandas as pd\n",
    "from classifier import Classifier"
   ]
  },
  {
   "cell_type": "markdown",
   "metadata": {},
   "source": [
    "## Initial Fetch Data - Perform once"
   ]
  },
  {
   "cell_type": "code",
   "execution_count": 2,
   "metadata": {},
   "outputs": [
    {
     "name": "stdout",
     "output_type": "stream",
     "text": [
      "fetching data from file #1\n"
     ]
    }
   ],
   "source": [
    "data_obj = get_processed_data(num_files_to_fetch_data_from=1)\n",
    "le = get_label_encoder(data_obj)\n",
    "\n",
    "X, y = get_features_and_labels(data_obj)"
   ]
  },
  {
   "cell_type": "markdown",
   "metadata": {},
   "source": [
    "## Constants"
   ]
  },
  {
   "cell_type": "code",
   "execution_count": 3,
   "metadata": {},
   "outputs": [],
   "source": [
    "n_clusters = 20\n",
    "λ = .5\n",
    "novel_disease_name = 'Hernia'\n",
    "novel_disease_label = le.transform((novel_disease_name,))[0]\n",
    "n = 2\n",
    "n_samples_to_generate = 20"
   ]
  },
  {
   "cell_type": "markdown",
   "metadata": {},
   "source": [
    "## Train a classifier on all diseases but one:"
   ]
  },
  {
   "cell_type": "code",
   "execution_count": 4,
   "metadata": {},
   "outputs": [
    {
     "name": "stdout",
     "output_type": "stream",
     "text": [
      "Train on 3367 samples, validate on 375 samples\n",
      "Epoch 1/1\n",
      "3367/3367 [==============================] - 1s 166us/step - loss: 2.8972 - acc: 0.0603 - val_loss: 2.0962 - val_acc: 0.1227\n",
      "416/416 [==============================] - 0s 37us/step\n",
      "accuracy acheived: 0.112981\n"
     ]
    }
   ],
   "source": [
    "X_train, X_test, y_train, y_test = get_train_test_split_without_disease(X, y, novel_disease_name, data_obj)\n",
    "\n",
    "cls = Classifier(n_classes=N_CLASSES - 1, n_epochs=1)\n",
    "cls.fit(X_train, y_train)\n",
    "print(\"accuracy acheived: %f\" % cls.evaluate(X_test, y_test)[1])"
   ]
  },
  {
   "cell_type": "markdown",
   "metadata": {},
   "source": [
    "## Use the trained classifier and generate new examples:"
   ]
  },
  {
   "cell_type": "code",
   "execution_count": 5,
   "metadata": {},
   "outputs": [
    {
     "name": "stdout",
     "output_type": "stream",
     "text": [
      "Classifier is now non-trainable!\n",
      "Loaded centroids from file\n",
      "Generator summary:\n",
      "_________________________________________________________________\n",
      "Layer (type)                 Output Shape              Param #   \n",
      "=================================================================\n",
      "input_2 (InputLayer)         (None, 6144)              0         \n",
      "_________________________________________________________________\n",
      "dense_1 (Dense)              (None, 512)               3146240   \n",
      "_________________________________________________________________\n",
      "dense_2 (Dense)              (None, 512)               262656    \n",
      "_________________________________________________________________\n",
      "generator (Dense)            (None, 2048)              1050624   \n",
      "=================================================================\n",
      "Total params: 4,459,520\n",
      "Trainable params: 4,459,520\n",
      "Non-trainable params: 0\n",
      "_________________________________________________________________\n",
      "None\n",
      "\n",
      "Whole model summary:\n",
      "_________________________________________________________________\n",
      "Layer (type)                 Output Shape              Param #   \n",
      "=================================================================\n",
      "input_2 (InputLayer)         (None, 6144)              0         \n",
      "_________________________________________________________________\n",
      "dense_1 (Dense)              (None, 512)               3146240   \n",
      "_________________________________________________________________\n",
      "dense_2 (Dense)              (None, 512)               262656    \n",
      "_________________________________________________________________\n",
      "generator (Dense)            (None, 2048)              1050624   \n",
      "_________________________________________________________________\n",
      "classifier (Model)           (None, 14)                28686     \n",
      "=================================================================\n",
      "Total params: 4,488,206\n",
      "Trainable params: 4,459,520\n",
      "Non-trainable params: 28,686\n",
      "_________________________________________________________________\n",
      "None\n",
      "Fitting generator\n",
      "WARNING:tensorflow:Variable *= will be deprecated. Use variable.assign_mul if you want assignment to the variable value or 'x = x * y' if you want a new python Tensor object.\n",
      "Epoch 1/10\n",
      "47088/47088 [==============================] - 17s 362us/step - loss: 1.3997 - generator_loss: 0.2422 - classifier_loss: 2.5573 - generator_acc: 0.6424 - classifier_acc: 0.1227\n",
      "Epoch 2/10\n",
      "47088/47088 [==============================] - 16s 350us/step - loss: 1.3500 - generator_loss: 0.2227 - classifier_loss: 2.4773 - generator_acc: 0.6574 - classifier_acc: 0.1352\n",
      "Epoch 3/10\n",
      "47088/47088 [==============================] - 17s 351us/step - loss: 1.2859 - generator_loss: 0.1760 - classifier_loss: 2.3959 - generator_acc: 0.6574 - classifier_acc: 0.1472\n",
      "Epoch 4/10\n",
      "47088/47088 [==============================] - 17s 352us/step - loss: 1.3355 - generator_loss: 0.1645 - classifier_loss: 2.5066 - generator_acc: 0.6574 - classifier_acc: 0.1171\n",
      "Epoch 5/10\n",
      "47088/47088 [==============================] - 17s 354us/step - loss: 1.3407 - generator_loss: 0.1501 - classifier_loss: 2.5314 - generator_acc: 0.6574 - classifier_acc: 0.1225\n",
      "Epoch 6/10\n",
      "47088/47088 [==============================] - 17s 352us/step - loss: 1.2998 - generator_loss: 0.1478 - classifier_loss: 2.4518 - generator_acc: 0.6574 - classifier_acc: 0.1468\n",
      "Epoch 7/10\n",
      "47088/47088 [==============================] - 16s 350us/step - loss: 1.2778 - generator_loss: 0.1469 - classifier_loss: 2.4087 - generator_acc: 0.6574 - classifier_acc: 0.1561\n",
      "Epoch 8/10\n",
      "47088/47088 [==============================] - 16s 350us/step - loss: 1.2727 - generator_loss: 0.1495 - classifier_loss: 2.3959 - generator_acc: 0.6574 - classifier_acc: 0.1560\n",
      "Epoch 9/10\n",
      "47088/47088 [==============================] - 16s 350us/step - loss: 1.2697 - generator_loss: 0.1512 - classifier_loss: 2.3882 - generator_acc: 0.6574 - classifier_acc: 0.1554\n",
      "Epoch 10/10\n",
      "47088/47088 [==============================] - 17s 363us/step - loss: 1.2600 - generator_loss: 0.1497 - classifier_loss: 2.3703 - generator_acc: 0.6574 - classifier_acc: 0.1543\n"
     ]
    }
   ],
   "source": [
    "X_train, X_test, y_train, y_test, n_samples_features, n_samples_integer_labels = get_train_test_split_with_n_samples_of_disease(X, y, novel_disease_name, data_obj, n)\n",
    "\n",
    "generated_features = LowShotGenerator.get_generated_features(cls,\n",
    "                                                             novel_disease_label,\n",
    "                                                             n_samples_features,\n",
    "                                                             n_clusters,\n",
    "                                                             λ,\n",
    "                                                             n_samples_to_generate)"
   ]
  },
  {
   "cell_type": "markdown",
   "metadata": {},
   "source": [
    "## Train a classifier on real n_samples of one disease"
   ]
  },
  {
   "cell_type": "code",
   "execution_count": 6,
   "metadata": {},
   "outputs": [
    {
     "name": "stdout",
     "output_type": "stream",
     "text": [
      "Train on 2808 samples, validate on 312 samples\n",
      "Epoch 1/1\n",
      "2808/2808 [==============================] - 0s 141us/step - loss: 3.1298 - acc: 0.0830 - val_loss: 2.3967 - val_acc: 0.0641\n",
      "1055/1055 [==============================] - 0s 36us/step\n",
      "accuracy acheived: 0.088152\n"
     ]
    }
   ],
   "source": [
    "X_train, X_test, y_train, y_test, n_samples_features, n_samples_integer_labels = get_train_test_split_with_n_samples_of_disease(X, y, novel_disease_name, data_obj, n)\n",
    "\n",
    "cls = Classifier(n_classes=N_CLASSES, n_epochs=1)\n",
    "cls.fit(X_train, y_train)\n",
    "print(\"accuracy acheived: %f\" % cls.evaluate(X_test, y_test)[1])"
   ]
  },
  {
   "cell_type": "markdown",
   "metadata": {},
   "source": [
    "## Train a classifier on real n_samples + generated samples"
   ]
  },
  {
   "cell_type": "code",
   "execution_count": 7,
   "metadata": {},
   "outputs": [
    {
     "name": "stdout",
     "output_type": "stream",
     "text": [
      "18\n",
      "(2048,)\n",
      "(3120, 2048)\n",
      "(3120, 15)\n",
      "Train on 2824 samples, validate on 314 samples\n",
      "Epoch 1/1\n",
      "2824/2824 [==============================] - 0s 144us/step - loss: 2.9190 - acc: 0.0591 - val_loss: 2.8193 - val_acc: 0.0478\n",
      "1055/1055 [==============================] - 0s 36us/step\n",
      "accuracy acheived: 0.065403\n"
     ]
    }
   ],
   "source": [
    "generated_data_label = novel_disease_label\n",
    "X_train, X_test, y_train, y_test = get_train_test_with_generated_data(X_train, X_test, y_train, y_test, generated_features, generated_data_label)\n",
    "\n",
    "cls = Classifier(n_classes=N_CLASSES, n_epochs=1)\n",
    "cls.fit(X_train, y_train)\n",
    "print(\"accuracy acheived: %f\" % cls.evaluate(X_test, y_test)[1])"
   ]
  },
  {
   "cell_type": "code",
   "execution_count": null,
   "metadata": {},
   "outputs": [],
   "source": []
  }
 ],
 "metadata": {
  "kernelspec": {
   "display_name": "Python 3",
   "language": "python",
   "name": "python3"
  },
  "language_info": {
   "codemirror_mode": {
    "name": "ipython",
    "version": 3
   },
   "file_extension": ".py",
   "mimetype": "text/x-python",
   "name": "python",
   "nbconvert_exporter": "python",
   "pygments_lexer": "ipython3",
   "version": "3.6.4"
  }
 },
 "nbformat": 4,
 "nbformat_minor": 2
}
