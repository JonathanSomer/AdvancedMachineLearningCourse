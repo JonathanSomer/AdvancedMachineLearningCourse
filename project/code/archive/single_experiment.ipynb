{
 "cells": [
  {
   "cell_type": "markdown",
   "metadata": {},
   "source": [
    "## Arguments for single experiment"
   ]
  },
  {
   "cell_type": "code",
   "execution_count": 3,
   "metadata": {},
   "outputs": [],
   "source": [
    "n_files = 1\n",
    "n_clusters = 20\n",
    "λ = .5\n",
    "novel_disease_name = 'Hernia'\n",
    "n_examples = 2\n",
    "n_samples_to_generate = 20"
   ]
  },
  {
   "cell_type": "code",
   "execution_count": 4,
   "metadata": {},
   "outputs": [
    {
     "name": "stdout",
     "output_type": "stream",
     "text": [
      "fetching data from file #1\n",
      "Train on 3367 samples, validate on 375 samples\n",
      "Epoch 1/1\n",
      "3367/3367 [==============================] - 0s 118us/step - loss: 3.0031 - acc: 0.0740 - val_loss: 2.2579 - val_acc: 0.0853\n",
      "416/416 [==============================] - 0s 34us/step\n",
      "accuracy acheived: 0.081731\n",
      "Classifier is now non-trainable!\n",
      "Loaded centroids from file\n",
      "Generator summary:\n",
      "_________________________________________________________________\n",
      "Layer (type)                 Output Shape              Param #   \n",
      "=================================================================\n",
      "input_2 (InputLayer)         (None, 6144)              0         \n",
      "_________________________________________________________________\n",
      "dense_1 (Dense)              (None, 512)               3146240   \n",
      "_________________________________________________________________\n",
      "dense_2 (Dense)              (None, 512)               262656    \n",
      "_________________________________________________________________\n",
      "generator (Dense)            (None, 2048)              1050624   \n",
      "=================================================================\n",
      "Total params: 4,459,520\n",
      "Trainable params: 4,459,520\n",
      "Non-trainable params: 0\n",
      "_________________________________________________________________\n",
      "None\n",
      "\n",
      "Whole model summary:\n",
      "_________________________________________________________________\n",
      "Layer (type)                 Output Shape              Param #   \n",
      "=================================================================\n",
      "input_2 (InputLayer)         (None, 6144)              0         \n",
      "_________________________________________________________________\n",
      "dense_1 (Dense)              (None, 512)               3146240   \n",
      "_________________________________________________________________\n",
      "dense_2 (Dense)              (None, 512)               262656    \n",
      "_________________________________________________________________\n",
      "generator (Dense)            (None, 2048)              1050624   \n",
      "_________________________________________________________________\n",
      "classifier (Model)           (None, 14)                28686     \n",
      "=================================================================\n",
      "Total params: 4,488,206\n",
      "Trainable params: 4,459,520\n",
      "Non-trainable params: 28,686\n",
      "_________________________________________________________________\n",
      "None\n",
      "Fitting generator\n",
      "WARNING:tensorflow:Variable *= will be deprecated. Use variable.assign_mul if you want assignment to the variable value or 'x = x * y' if you want a new python Tensor object.\n",
      "Epoch 1/10\n",
      "47088/47088 [==============================] - 17s 369us/step - loss: 1.3762 - generator_loss: 0.2321 - classifier_loss: 2.5203 - generator_acc: 0.6441 - classifier_acc: 0.1375\n",
      "Epoch 2/10\n",
      "47088/47088 [==============================] - 17s 366us/step - loss: 1.3562 - generator_loss: 0.1952 - classifier_loss: 2.5173 - generator_acc: 0.6574 - classifier_acc: 0.1279\n",
      "Epoch 3/10\n",
      "47088/47088 [==============================] - 18s 385us/step - loss: 1.3025 - generator_loss: 0.1559 - classifier_loss: 2.4491 - generator_acc: 0.6574 - classifier_acc: 0.1491\n",
      "Epoch 4/10\n",
      "47088/47088 [==============================] - 17s 358us/step - loss: 1.2913 - generator_loss: 0.1584 - classifier_loss: 2.4242 - generator_acc: 0.6574 - classifier_acc: 0.1481\n",
      "Epoch 5/10\n",
      "47088/47088 [==============================] - 17s 358us/step - loss: 1.3082 - generator_loss: 0.1526 - classifier_loss: 2.4638 - generator_acc: 0.6573 - classifier_acc: 0.1278\n",
      "Epoch 6/10\n",
      "47088/47088 [==============================] - 17s 360us/step - loss: 1.3886 - generator_loss: 0.1308 - classifier_loss: 2.6464 - generator_acc: 0.6574 - classifier_acc: 0.0760\n",
      "Epoch 7/10\n",
      "47088/47088 [==============================] - 17s 361us/step - loss: 1.3882 - generator_loss: 0.1308 - classifier_loss: 2.6457 - generator_acc: 0.6574 - classifier_acc: 0.0729\n",
      "Epoch 8/10\n",
      "47088/47088 [==============================] - 17s 360us/step - loss: 1.3879 - generator_loss: 0.1307 - classifier_loss: 2.6451 - generator_acc: 0.6574 - classifier_acc: 0.0749\n",
      "Epoch 9/10\n",
      "47088/47088 [==============================] - 17s 361us/step - loss: 1.3871 - generator_loss: 0.1307 - classifier_loss: 2.6436 - generator_acc: 0.6574 - classifier_acc: 0.0737\n",
      "Epoch 10/10\n",
      "47088/47088 [==============================] - 17s 361us/step - loss: 1.3873 - generator_loss: 0.1307 - classifier_loss: 2.6439 - generator_acc: 0.6574 - classifier_acc: 0.0757\n",
      "Train on 2808 samples, validate on 312 samples\n",
      "Epoch 1/1\n",
      "2808/2808 [==============================] - 0s 114us/step - loss: 3.0532 - acc: 0.0865 - val_loss: 2.9075 - val_acc: 0.0929\n",
      "1055/1055 [==============================] - 0s 34us/step\n",
      "accuracy acheived: 0.081517\n",
      "Train on 2824 samples, validate on 314 samples\n",
      "Epoch 1/1\n",
      "2824/2824 [==============================] - 0s 127us/step - loss: 2.9634 - acc: 0.0609 - val_loss: 3.1040 - val_acc: 0.0924\n",
      "1055/1055 [==============================] - 0s 40us/step\n",
      "accuracy acheived: 0.077725\n"
     ]
    }
   ],
   "source": [
    "import experiment\n",
    "experiment.run(novel_disease_name, n_examples, n_samples_to_generate, λ, n_clusters, n_files)"
   ]
  },
  {
   "cell_type": "code",
   "execution_count": null,
   "metadata": {},
   "outputs": [],
   "source": []
  }
 ],
 "metadata": {
  "kernelspec": {
   "display_name": "Python 3",
   "language": "python",
   "name": "python3"
  },
  "language_info": {
   "codemirror_mode": {
    "name": "ipython",
    "version": 3
   },
   "file_extension": ".py",
   "mimetype": "text/x-python",
   "name": "python",
   "nbconvert_exporter": "python",
   "pygments_lexer": "ipython3",
   "version": "3.6.4"
  }
 },
 "nbformat": 4,
 "nbformat_minor": 2
}
