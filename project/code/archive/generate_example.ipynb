{
 "cells": [
  {
   "cell_type": "code",
   "execution_count": 1,
   "metadata": {},
   "outputs": [
    {
     "name": "stderr",
     "output_type": "stream",
     "text": [
      "Using TensorFlow backend.\n"
     ]
    },
    {
     "name": "stdout",
     "output_type": "stream",
     "text": [
      "fetching data from file #1\n",
      "                     0\n",
      "0          Atelectasis\n",
      "1         Cardiomegaly\n",
      "2        Consolidation\n",
      "3                Edema\n",
      "4             Effusion\n",
      "5            Emphysema\n",
      "6             Fibrosis\n",
      "7               Hernia\n",
      "8         Infiltration\n",
      "9                 Mass\n",
      "10          No Finding\n",
      "11              Nodule\n",
      "12  Pleural_Thickening\n",
      "13           Pneumonia\n",
      "14        Pneumothorax\n"
     ]
    }
   ],
   "source": [
    "import data_utils as du\n",
    "import pandas as pd\n",
    "\n",
    "data_obj = du.get_processed_data(num_files_to_fetch_data_from=1)\n",
    "diseases = data_obj['label_encoder_classes']\n",
    "print(pd.DataFrame(diseases))\n",
    "diseases_to_remove = diseases[12:]\n",
    "\n",
    "from classifier import Classifier\n",
    "n_classes = len(diseases) - len(diseases_to_remove)\n",
    "classifier = Classifier(n_classes=n_classes, trainable=False)  # force it to not changing weights\n",
    "\n",
    "dataset = du.to_low_shot_dataset(data_obj, diseases_to_remove)"
   ]
  },
  {
   "cell_type": "code",
   "execution_count": 2,
   "metadata": {},
   "outputs": [
    {
     "name": "stdout",
     "output_type": "stream",
     "text": [
      "Loading quadruplets and centroids.\n",
      "Loading samples.\n",
      "Building model.\n",
      "_________________________________________________________________\n",
      "Layer (type)                 Output Shape              Param #   \n",
      "=================================================================\n",
      "input_2 (InputLayer)         (None, 301056)            0         \n",
      "_________________________________________________________________\n",
      "dense_1 (Dense)              (None, 16)                4816912   \n",
      "_________________________________________________________________\n",
      "dense_2 (Dense)              (None, 16)                272       \n",
      "_________________________________________________________________\n",
      "generator (Dense)            (None, 100352)            1705984   \n",
      "_________________________________________________________________\n",
      "reshape_1 (Reshape)          (None, 7, 7, 2048)        0         \n",
      "_________________________________________________________________\n",
      "model_1 (Model)              (None, 12)                24588     \n",
      "_________________________________________________________________\n",
      "classifier (Lambda)          (None, 12)                0         \n",
      "=================================================================\n",
      "Total params: 6,547,756\n",
      "Trainable params: 6,523,168\n",
      "Non-trainable params: 24,588\n",
      "_________________________________________________________________\n",
      "None\n"
     ]
    }
   ],
   "source": [
    "from generator import LowShotGenerator\n",
    "lsg = LowShotGenerator(classifier, dataset, n_clusters=10, hidden_size=16)\n",
    "\n",
    "# check out below that there are 24,588 non-trainable params. Those params are the params of the classifier."
   ]
  },
  {
   "cell_type": "code",
   "execution_count": 3,
   "metadata": {},
   "outputs": [
    {
     "name": "stdout",
     "output_type": "stream",
     "text": [
      "Fitting model.\n",
      "Epoch 1/10\n",
      "2970/2970 [==============================] - 21s 7ms/step - loss: 3.3594 - generator_loss: 1.4780 - classifier_loss: 2.6204 - generator_acc: 0.0000e+00 - classifier_acc: 0.2037\n",
      "Epoch 2/10\n",
      "2970/2970 [==============================] - 13s 5ms/step - loss: 2.2906 - generator_loss: 1.3396 - classifier_loss: 1.6208 - generator_acc: 0.0010 - classifier_acc: 0.3865\n",
      "Epoch 3/10\n",
      "2970/2970 [==============================] - 14s 5ms/step - loss: 2.0618 - generator_loss: 1.2469 - classifier_loss: 1.4383 - generator_acc: 0.0000e+00 - classifier_acc: 0.4586\n",
      "Epoch 4/10\n",
      "2970/2970 [==============================] - 13s 5ms/step - loss: 1.9374 - generator_loss: 1.2018 - classifier_loss: 1.3365 - generator_acc: 6.7340e-04 - classifier_acc: 0.5024\n",
      "Epoch 5/10\n",
      "2970/2970 [==============================] - 14s 5ms/step - loss: 1.9550 - generator_loss: 1.1801 - classifier_loss: 1.3649 - generator_acc: 3.3670e-04 - classifier_acc: 0.5236\n",
      "Epoch 6/10\n",
      "2970/2970 [==============================] - 14s 5ms/step - loss: 1.7914 - generator_loss: 1.1728 - classifier_loss: 1.2050 - generator_acc: 0.0000e+00 - classifier_acc: 0.5633\n",
      "Epoch 7/10\n",
      "2970/2970 [==============================] - 13s 5ms/step - loss: 1.4544 - generator_loss: 1.1316 - classifier_loss: 0.8885 - generator_acc: 0.0000e+00 - classifier_acc: 0.6714\n",
      "Epoch 8/10\n",
      "2970/2970 [==============================] - 14s 5ms/step - loss: 1.3315 - generator_loss: 1.0991 - classifier_loss: 0.7819 - generator_acc: 0.0000e+00 - classifier_acc: 0.7152\n",
      "Epoch 9/10\n",
      "2970/2970 [==============================] - 14s 5ms/step - loss: 1.3282 - generator_loss: 1.0786 - classifier_loss: 0.7889 - generator_acc: 0.0000e+00 - classifier_acc: 0.7121\n",
      "Epoch 10/10\n",
      "2970/2970 [==============================] - 14s 5ms/step - loss: 2.4677 - generator_loss: 1.1653 - classifier_loss: 1.8851 - generator_acc: 0.0020 - classifier_acc: 0.4465\n"
     ]
    }
   ],
   "source": [
    "lsg.fit()"
   ]
  },
  {
   "cell_type": "code",
   "execution_count": 4,
   "metadata": {},
   "outputs": [],
   "source": [
    "unused_diseases = diseases_to_remove\n",
    "used_dieases = diseases[:12]\n",
    "\n",
    "unused_dataset = du.to_low_shot_dataset(data_obj, used_dieases)\n",
    "cat_to_vectors, cat_to_onehots, original_shape = unused_dataset"
   ]
  },
  {
   "cell_type": "code",
   "execution_count": 5,
   "metadata": {},
   "outputs": [
    {
     "data": {
      "text/html": [
       "<div>\n",
       "<style scoped>\n",
       "    .dataframe tbody tr th:only-of-type {\n",
       "        vertical-align: middle;\n",
       "    }\n",
       "\n",
       "    .dataframe tbody tr th {\n",
       "        vertical-align: top;\n",
       "    }\n",
       "\n",
       "    .dataframe thead th {\n",
       "        text-align: right;\n",
       "    }\n",
       "</style>\n",
       "<table border=\"1\" class=\"dataframe\">\n",
       "  <thead>\n",
       "    <tr style=\"text-align: right;\">\n",
       "      <th></th>\n",
       "      <th>0</th>\n",
       "    </tr>\n",
       "  </thead>\n",
       "  <tbody>\n",
       "    <tr>\n",
       "      <th>0</th>\n",
       "      <td>Pleural_Thickening</td>\n",
       "    </tr>\n",
       "    <tr>\n",
       "      <th>1</th>\n",
       "      <td>Pneumothorax</td>\n",
       "    </tr>\n",
       "    <tr>\n",
       "      <th>2</th>\n",
       "      <td>Pneumonia</td>\n",
       "    </tr>\n",
       "  </tbody>\n",
       "</table>\n",
       "</div>"
      ],
      "text/plain": [
       "                    0\n",
       "0  Pleural_Thickening\n",
       "1        Pneumothorax\n",
       "2           Pneumonia"
      ]
     },
     "execution_count": 5,
     "metadata": {},
     "output_type": "execute_result"
    }
   ],
   "source": [
    "pd.DataFrame(list(cat_to_vectors.keys()))"
   ]
  },
  {
   "cell_type": "code",
   "execution_count": 6,
   "metadata": {},
   "outputs": [
    {
     "name": "stdout",
     "output_type": "stream",
     "text": [
      "[0.9632411 0.        0.        ... 0.        0.        0.       ]\n"
     ]
    }
   ],
   "source": [
    "ϕ = cat_to_vectors['Pneumonia'][15]\n",
    "print(ϕ)"
   ]
  },
  {
   "cell_type": "code",
   "execution_count": 7,
   "metadata": {},
   "outputs": [
    {
     "data": {
      "text/plain": [
       "array([[0.      , 0.      , 0.      , ..., 0.278905, 0.      , 0.      ]],\n",
       "      dtype=float32)"
      ]
     },
     "execution_count": 7,
     "metadata": {},
     "output_type": "execute_result"
    }
   ],
   "source": [
    "lsg.generate(ϕ, n_new=1)"
   ]
  }
 ],
 "metadata": {
  "kernelspec": {
   "display_name": "Python 3",
   "language": "python",
   "name": "python3"
  },
  "language_info": {
   "codemirror_mode": {
    "name": "ipython",
    "version": 3
   },
   "file_extension": ".py",
   "mimetype": "text/x-python",
   "name": "python",
   "nbconvert_exporter": "python",
   "pygments_lexer": "ipython3",
   "version": "3.6.5"
  }
 },
 "nbformat": 4,
 "nbformat_minor": 2
}
