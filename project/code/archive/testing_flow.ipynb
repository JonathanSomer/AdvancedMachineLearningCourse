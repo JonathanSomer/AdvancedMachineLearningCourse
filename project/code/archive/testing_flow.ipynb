{
 "cells": [
  {
   "cell_type": "code",
   "execution_count": 1,
   "metadata": {},
   "outputs": [
    {
     "name": "stderr",
     "output_type": "stream",
     "text": [
      "Using TensorFlow backend.\n"
     ]
    }
   ],
   "source": [
    "from mnist_classifier import *\n",
    "from mnist_data import *\n",
    "from cifar_classifer import *\n",
    "from cifar_data import *\n",
    "\n",
    "import numpy as np\n",
    "import random"
   ]
  },
  {
   "cell_type": "code",
   "execution_count": 2,
   "metadata": {},
   "outputs": [],
   "source": [
    "USE_FEATURES = True\n",
    "\n",
    "# cls = MnistClassifier(use_features = USE_FEATURES)\n",
    "# d = MnistData(use_features = USE_FEATURES, use_data_subset = False)\n",
    "# DATASET_NAME = 'mnist'\n",
    "\n",
    "cls = Cifar10Classifier()\n",
    "d = Cifar10Data(use_data_subset = True)\n",
    "DATASET_NAME = 'cifar10'"
   ]
  },
  {
   "cell_type": "markdown",
   "metadata": {},
   "source": [
    "## Train Mnist Classifier on all data"
   ]
  },
  {
   "cell_type": "code",
   "execution_count": 3,
   "metadata": {},
   "outputs": [
    {
     "name": "stdout",
     "output_type": "stream",
     "text": [
      "Train on 2500 samples, validate on 500 samples\n",
      "Epoch 1/1\n",
      "2500/2500 [==============================] - 32s 13ms/step - loss: 3.5249 - acc: 0.2428 - val_loss: 3.2121 - val_acc: 0.2820\n",
      "33.9 s ± 0 ns per loop (mean ± std. dev. of 1 run, 1 loop each)\n"
     ]
    }
   ],
   "source": [
    "%%timeit -n 1 -r 1\n",
    "cls.fit(*d.into_fit())"
   ]
  },
  {
   "cell_type": "code",
   "execution_count": 4,
   "metadata": {},
   "outputs": [
    {
     "name": "stdout",
     "output_type": "stream",
     "text": [
      "500/500 [==============================] - 2s 4ms/step\n",
      "Test loss: 3.2120553607940674\n",
      "Test accuracy: 0.282\n"
     ]
    },
    {
     "data": {
      "text/plain": [
       "[3.2120553607940674, 0.282]"
      ]
     },
     "execution_count": 4,
     "metadata": {},
     "output_type": "execute_result"
    }
   ],
   "source": [
    "# None.what\n",
    "cls.evaluate(*d.into_evaluate())"
   ]
  },
  {
   "cell_type": "markdown",
   "metadata": {},
   "source": [
    "## Train Mnist Classifier on all data but class 5"
   ]
  },
  {
   "cell_type": "code",
   "execution_count": 5,
   "metadata": {},
   "outputs": [
    {
     "name": "stdout",
     "output_type": "stream",
     "text": [
      "Removed class # 5\n",
      "current number of examples per class -- train:\n",
      " {0: 253, 1: 243, 2: 255, 3: 244, 4: 262, 6: 250, 7: 253, 8: 254, 9: 250}\n",
      "\n",
      "current number of examples per class -- test:\n",
      " {0: 57, 1: 41, 2: 51, 3: 49, 4: 40, 6: 54, 7: 47, 8: 57, 9: 56}\n"
     ]
    }
   ],
   "source": [
    "# get n_classes from data object. no more global constants\n",
    "n_classes = d.get_num_classes()\n",
    "\n",
    "# we'll just use class #5\n",
    "d.set_removed_class(class_index = 5, verbose = True)"
   ]
  },
  {
   "cell_type": "code",
   "execution_count": 6,
   "metadata": {},
   "outputs": [
    {
     "name": "stdout",
     "output_type": "stream",
     "text": [
      "Train on 2264 samples, validate on 452 samples\n",
      "Epoch 1/1\n",
      "2264/2264 [==============================] - 25s 11ms/step - loss: 3.4717 - acc: 0.2694 - val_loss: 2.5622 - val_acc: 0.3186\n"
     ]
    }
   ],
   "source": [
    "cls.fit(*d.into_fit())"
   ]
  },
  {
   "cell_type": "code",
   "execution_count": 7,
   "metadata": {},
   "outputs": [
    {
     "name": "stdout",
     "output_type": "stream",
     "text": [
      "452/452 [==============================] - 2s 5ms/step\n",
      "Test loss: 2.562156042166516\n",
      "Test accuracy: 0.3185840707964602\n"
     ]
    },
    {
     "data": {
      "text/plain": [
       "[2.562156042166516, 0.3185840707964602]"
      ]
     },
     "execution_count": 7,
     "metadata": {},
     "output_type": "execute_result"
    }
   ],
   "source": [
    "cls.evaluate(*d.into_evaluate())"
   ]
  },
  {
   "cell_type": "markdown",
   "metadata": {},
   "source": [
    "## Train using n samples of the class removed"
   ]
  },
  {
   "cell_type": "code",
   "execution_count": null,
   "metadata": {},
   "outputs": [
    {
     "name": "stdout",
     "output_type": "stream",
     "text": [
      "Train on 2284 samples, validate on 500 samples\n",
      "Epoch 1/1\n",
      "2176/2284 [===========================>..] - ETA: 1s - loss: 3.5217 - acc: 0.2569"
     ]
    }
   ],
   "source": [
    "d.set_number_of_samples_to_use(n = 20)\n",
    "cls.fit(*d.into_fit())"
   ]
  },
  {
   "cell_type": "code",
   "execution_count": null,
   "metadata": {},
   "outputs": [],
   "source": [
    "cls.evaluate(*d.into_evaluate())"
   ]
  },
  {
   "cell_type": "markdown",
   "metadata": {},
   "source": [
    "## Train using n samples + generated data"
   ]
  },
  {
   "cell_type": "code",
   "execution_count": null,
   "metadata": {},
   "outputs": [],
   "source": [
    "generated_data = d.get_generated_data_stub()\n",
    "\n",
    "d.set_generated_data(generated_data)\n",
    "cls.fit(*d.into_fit())"
   ]
  },
  {
   "cell_type": "code",
   "execution_count": null,
   "metadata": {},
   "outputs": [],
   "source": [
    "cls.evaluate(*d.into_evaluate())"
   ]
  },
  {
   "cell_type": "markdown",
   "metadata": {},
   "source": [
    "## To Low Shot Dataset Method"
   ]
  },
  {
   "cell_type": "code",
   "execution_count": null,
   "metadata": {},
   "outputs": [],
   "source": [
    "lsds = d.to_low_shot_dataset(verbose=True)"
   ]
  },
  {
   "cell_type": "markdown",
   "metadata": {},
   "source": [
    "## Generator Benchmark"
   ]
  },
  {
   "cell_type": "code",
   "execution_count": null,
   "metadata": {},
   "outputs": [],
   "source": [
    "from mnist_classifier import *\n",
    "from mnist_data import *\n",
    "import numpy as np\n",
    "import random\n",
    "from generator import *\n",
    "\n",
    "cls = MnistClassifier\n",
    "d = MnistData(use_features=USE_FEATURES, use_data_subset = True)"
   ]
  },
  {
   "cell_type": "code",
   "execution_count": null,
   "metadata": {},
   "outputs": [],
   "source": [
    "LowShotGenerator.benchmark(Classifier=cls, \n",
    "                           data_object=d,\n",
    "                           dataset_name=DATASET_NAME,\n",
    "                           n_clusters=30,\n",
    "                           λ = 0.95,\n",
    "                           epochs = 1)"
   ]
  },
  {
   "cell_type": "code",
   "execution_count": null,
   "metadata": {},
   "outputs": [],
   "source": [
    "# USE_FEATURES = True\n"
   ]
  },
  {
   "cell_type": "code",
   "execution_count": null,
   "metadata": {},
   "outputs": [],
   "source": [
    "# first_feature_from_each = []\n",
    "# for i in range(10):\n",
    "#     d = MnistData(use_features = USE_FEATURES, \n",
    "#                   use_data_subset = True)\n",
    "#     lsd = d.to_low_shot_dataset(class_removed=i)\n",
    "#     first_feature_from_each.append(lsd[0][0])\n",
    "# #     first_feature_from_each.append(d.x_train[0])\n"
   ]
  }
 ],
 "metadata": {
  "kernelspec": {
   "display_name": "low_shot",
   "language": "python",
   "name": "low_shot"
  },
  "language_info": {
   "codemirror_mode": {
    "name": "ipython",
    "version": 3
   },
   "file_extension": ".py",
   "mimetype": "text/x-python",
   "name": "python",
   "nbconvert_exporter": "python",
   "pygments_lexer": "ipython3",
   "version": "3.6.6"
  }
 },
 "nbformat": 4,
 "nbformat_minor": 2
}
