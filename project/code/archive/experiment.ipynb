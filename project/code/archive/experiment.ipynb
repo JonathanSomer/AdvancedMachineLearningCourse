{
 "cells": [
  {
   "cell_type": "code",
   "execution_count": 1,
   "metadata": {},
   "outputs": [
    {
     "name": "stderr",
     "output_type": "stream",
     "text": [
      "/home/shared/anaconda3/lib/python3.6/site-packages/h5py/__init__.py:36: FutureWarning: Conversion of the second argument of issubdtype from `float` to `np.floating` is deprecated. In future, it will be treated as `np.float64 == np.dtype(float).type`.\n",
      "  from ._conv import register_converters as _register_converters\n",
      "Using TensorFlow backend.\n"
     ]
    }
   ],
   "source": [
    "from generator import LowShotGenerator\n",
    "from classifier import Classifier\n",
    "from callbacks import CloudCallback\n",
    "from train import get_trained_classifier_and_data\n",
    "\n",
    "import numpy as np\n",
    "import collect\n",
    "\n",
    "\n",
    "n_clusters = 20\n",
    "n_files = 12\n",
    "\n",
    "all_diseases = ['Atelectasis',\n",
    "                'Cardiomegaly',\n",
    "                'Consolidation',\n",
    "                'Edema',\n",
    "                'Effusion',\n",
    "                'Emphysema',\n",
    "                'Fibrosis',\n",
    "                'Hernia',\n",
    "                'Infiltration',\n",
    "                'Mass',\n",
    "                'No Finding',\n",
    "                'Nodule',\n",
    "                'Pleural_Thickening',\n",
    "                'Pneumonia',\n",
    "                'Pneumothorax']"
   ]
  },
  {
   "cell_type": "code",
   "execution_count": 2,
   "metadata": {},
   "outputs": [
    {
     "name": "stdout",
     "output_type": "stream",
     "text": [
      "Loaded centroids from file\n",
      "Unused diseases: Hernia, Pneumonia, Edema, Emphysema, Fibrosis\n"
     ]
    }
   ],
   "source": [
    "unused_diseases = ['Hernia', 'Pneumonia', 'Edema', 'Emphysema', 'Fibrosis']\n",
    "diseases_to_remove = list(unused_diseases)\n",
    "diseases = [d for d in all_diseases if d not in unused_diseases]\n",
    "\n",
    "quadruplets_data = collect.load_quadruplets(n_clusters=n_clusters, categories=diseases, n_files=n_files)\n",
    "\n",
    "print('Unused diseases: {0}'.format(', '.join(unused_diseases)))"
   ]
  },
  {
   "cell_type": "code",
   "execution_count": 3,
   "metadata": {},
   "outputs": [
    {
     "name": "stdout",
     "output_type": "stream",
     "text": [
      "Loaded classifier and data from files\n",
      "Loaded classifier weights from a saved model\n",
      "Classifier is now non-trainable!\n"
     ]
    }
   ],
   "source": [
    "classifier, X_train, X_test, y_train, y_test = get_trained_classifier_and_data(diseases_to_remove, n_files=n_files)\n",
    "classifier.toggle_trainability()  # make the classifier non-trainable"
   ]
  },
  {
   "cell_type": "code",
   "execution_count": 4,
   "metadata": {},
   "outputs": [
    {
     "name": "stdout",
     "output_type": "stream",
     "text": [
      "Generator summary:\n",
      "_________________________________________________________________\n",
      "Layer (type)                 Output Shape              Param #   \n",
      "=================================================================\n",
      "input_2 (InputLayer)         (None, 6144)              0         \n",
      "_________________________________________________________________\n",
      "dense_1 (Dense)              (None, 512)               3146240   \n",
      "_________________________________________________________________\n",
      "dense_2 (Dense)              (None, 512)               262656    \n",
      "_________________________________________________________________\n",
      "dense_3 (Dense)              (None, 2048)              1050624   \n",
      "=================================================================\n",
      "Total params: 4,459,520\n",
      "Trainable params: 4,459,520\n",
      "Non-trainable params: 0\n",
      "_________________________________________________________________\n",
      "None\n",
      "\n",
      "Whole model summary:\n",
      "_________________________________________________________________\n",
      "Layer (type)                 Output Shape              Param #   \n",
      "=================================================================\n",
      "input_2 (InputLayer)         (None, 6144)              0         \n",
      "_________________________________________________________________\n",
      "dense_1 (Dense)              (None, 512)               3146240   \n",
      "_________________________________________________________________\n",
      "dense_2 (Dense)              (None, 512)               262656    \n",
      "_________________________________________________________________\n",
      "dense_3 (Dense)              (None, 2048)              1050624   \n",
      "_________________________________________________________________\n",
      "model_2 (Model)              (None, 15)                30735     \n",
      "=================================================================\n",
      "Total params: 4,490,255\n",
      "Trainable params: 4,459,520\n",
      "Non-trainable params: 30,735\n",
      "_________________________________________________________________\n",
      "None\n",
      "Fitting generator\n",
      "WARNING:tensorflow:Variable *= will be deprecated. Use variable.assign_mul if you want assignment to the variable value or 'x = x * y' if you want a new python Tensor object.\n",
      "Epoch 1/10\n",
      "23268/23268 [==============================] - 9s 405us/step - loss: 10.5464 - dense_3_loss: 0.7528 - model_2_loss: 3.0184 - dense_3_acc: 0.0090 - model_2_acc: 0.0997\n",
      "Epoch 2/10\n",
      "23268/23268 [==============================] - 8s 359us/step - loss: 9.8440 - dense_3_loss: 0.7268 - model_2_loss: 2.5759 - dense_3_acc: 0.0000e+00 - model_2_acc: 0.0993\n",
      "Epoch 3/10\n",
      "23268/23268 [==============================] - 8s 359us/step - loss: 9.8441 - dense_3_loss: 0.7268 - model_2_loss: 2.5760 - dense_3_acc: 0.0000e+00 - model_2_acc: 0.0993\n",
      "Epoch 4/10\n",
      "23268/23268 [==============================] - 8s 360us/step - loss: 9.8437 - dense_3_loss: 0.7268 - model_2_loss: 2.5759 - dense_3_acc: 0.0000e+00 - model_2_acc: 0.0993\n",
      "Epoch 5/10\n",
      "23268/23268 [==============================] - 8s 358us/step - loss: 9.8440 - dense_3_loss: 0.7268 - model_2_loss: 2.5762 - dense_3_acc: 0.0000e+00 - model_2_acc: 0.0993\n",
      "Epoch 6/10\n",
      "23268/23268 [==============================] - 8s 360us/step - loss: 9.8437 - dense_3_loss: 0.7269 - model_2_loss: 2.5752 - dense_3_acc: 0.0000e+00 - model_2_acc: 0.0993\n",
      "Epoch 7/10\n",
      "23268/23268 [==============================] - 8s 358us/step - loss: 9.8438 - dense_3_loss: 0.7268 - model_2_loss: 2.5758 - dense_3_acc: 0.0000e+00 - model_2_acc: 0.0993\n",
      "Epoch 8/10\n",
      "23268/23268 [==============================] - 8s 358us/step - loss: 9.8436 - dense_3_loss: 0.7268 - model_2_loss: 2.5757 - dense_3_acc: 0.0000e+00 - model_2_acc: 0.0993\n",
      "Epoch 9/10\n",
      "23268/23268 [==============================] - 8s 362us/step - loss: 9.8437 - dense_3_loss: 0.7268 - model_2_loss: 2.5758 - dense_3_acc: 0.0000e+00 - model_2_acc: 0.0993\n",
      "Epoch 10/10\n",
      "23268/23268 [==============================] - 8s 362us/step - loss: 9.8436 - dense_3_loss: 0.7268 - model_2_loss: 2.5753 - dense_3_acc: 0.0000e+00 - model_2_acc: 0.0993\n"
     ]
    },
    {
     "data": {
      "text/plain": [
       "<keras.engine.training.Model at 0x7febc8ce2b70>"
      ]
     },
     "execution_count": 4,
     "metadata": {},
     "output_type": "execute_result"
    }
   ],
   "source": [
    "λ = 10.\n",
    "lsg_name = 'lsg_f.{0}_c.{1}_w.{2}'.format(n_files, n_clusters, '.'.join(unused_diseases))\n",
    "lsg = LowShotGenerator(classifier.model, quadruplets_data, λ=λ, name=lsg_name)\n",
    "lsg.fit()"
   ]
  },
  {
   "cell_type": "code",
   "execution_count": 7,
   "metadata": {},
   "outputs": [
    {
     "name": "stdout",
     "output_type": "stream",
     "text": [
      "Loaded centroids from file\n",
      "Will generate 1093 examples from 10 samples of Hernia\n"
     ]
    }
   ],
   "source": [
    "unused_data = collect.load_quadruplets(n_clusters=n_clusters, categories=unused_diseases, n_files=n_files)\n",
    "quadruplets, centroids, cat_to_vectors, cat_to_onehots, original_shape = unused_data\n",
    "\n",
    "n_examples = min(len(vecs) for cat, vecs in cat_to_vectors.items() if cat not in diseases_to_remove)\n",
    "n_samples = 10\n",
    "disease_to_hillucinate = disease = 'Hernia'\n",
    "\n",
    "print('Will generate {0} examples from {1} samples of {2}'.format(n_examples, n_samples, disease_to_hillucinate))"
   ]
  },
  {
   "cell_type": "code",
   "execution_count": 8,
   "metadata": {},
   "outputs": [],
   "source": [
    "X_train_disease, X_test_disease = cat_to_vectors[disease][:n_samples], cat_to_vectors[disease][n_samples:]\n",
    "X_train_disease = np.concatenate([X_train_disease] + [lsg.generate(ϕ, n_new=n_examples // n_samples) for ϕ in X_train_disease])\n",
    "y_train_disease = np.array([cat_to_onehots[disease] for x in X_train_disease])\n",
    "y_test_disease = np.array([cat_to_onehots[disease] for x in X_test_disease])\n",
    "\n",
    "X_train, y_train = np.concatenate((X_train, X_train_disease)), np.concatenate((y_train, y_train_disease))"
   ]
  },
  {
   "cell_type": "code",
   "execution_count": 9,
   "metadata": {},
   "outputs": [
    {
     "name": "stdout",
     "output_type": "stream",
     "text": [
      "Train on 72792 samples, validate on 8088 samples\n",
      "Epoch 1/10\n",
      " - 5s - loss: 3.3911 - acc: 0.6289 - val_loss: 3.3825 - val_acc: 0.5749\n",
      "Epoch 2/10\n",
      " - 5s - loss: 3.5073 - acc: 0.6410 - val_loss: 3.8389 - val_acc: 0.5739\n",
      "Epoch 3/10\n",
      " - 5s - loss: 3.8305 - acc: 0.6407 - val_loss: 3.8315 - val_acc: 0.5679\n",
      "Epoch 4/10\n",
      " - 5s - loss: 3.9047 - acc: 0.6442 - val_loss: 3.8363 - val_acc: 0.5779\n",
      "Epoch 5/10\n",
      " - 5s - loss: 4.9941 - acc: 0.6776 - val_loss: 5.0452 - val_acc: 0.5817\n",
      "Epoch 6/10\n",
      " - 5s - loss: 5.1249 - acc: 0.6820 - val_loss: 5.0452 - val_acc: 0.5817\n",
      "Epoch 7/10\n",
      " - 5s - loss: 5.1249 - acc: 0.6820 - val_loss: 5.0452 - val_acc: 0.5817\n",
      "Epoch 8/10\n",
      " - 5s - loss: 5.1249 - acc: 0.6820 - val_loss: 5.0452 - val_acc: 0.5817\n",
      "Epoch 9/10\n",
      " - 5s - loss: 5.1249 - acc: 0.6820 - val_loss: 5.0452 - val_acc: 0.5817\n",
      "Epoch 10/10\n",
      " - 5s - loss: 5.1249 - acc: 0.6820 - val_loss: 5.0452 - val_acc: 0.5817\n"
     ]
    },
    {
     "data": {
      "text/plain": [
       "<keras.engine.training.Model at 0x7febc270b208>"
      ]
     },
     "execution_count": 9,
     "metadata": {},
     "output_type": "execute_result"
    }
   ],
   "source": [
    "fresh_classifier = Classifier(trainable=True)\n",
    "fresh_classifier.fit(X_train, y_train)"
   ]
  },
  {
   "cell_type": "code",
   "execution_count": 10,
   "metadata": {},
   "outputs": [
    {
     "name": "stdout",
     "output_type": "stream",
     "text": [
      "8865/8865 [==============================] - 0s 44us/step\n",
      "accuracy for regular diseases is 0.677834179357022\n",
      "100/100 [==============================] - 0s 57us/step\n",
      "accuracy for novel disease \"Hernia\" is 0.0\n"
     ]
    }
   ],
   "source": [
    "loss, acc = classifier.evaluate(X_test, y_test)\n",
    "print('accuracy for regular diseases is {0}'.format(acc))\n",
    "\n",
    "loss, acc = classifier.evaluate(X_test_disease, y_test_disease)\n",
    "print('accuracy for novel disease \"{0}\" is {1}'.format(disease, acc))"
   ]
  },
  {
   "cell_type": "code",
   "execution_count": null,
   "metadata": {},
   "outputs": [],
   "source": []
  }
 ],
 "metadata": {
  "kernelspec": {
   "display_name": "Python 3",
   "language": "python",
   "name": "python3"
  },
  "language_info": {
   "codemirror_mode": {
    "name": "ipython",
    "version": 3
   },
   "file_extension": ".py",
   "mimetype": "text/x-python",
   "name": "python",
   "nbconvert_exporter": "python",
   "pygments_lexer": "ipython3",
   "version": "3.6.4"
  }
 },
 "nbformat": 4,
 "nbformat_minor": 2
}
