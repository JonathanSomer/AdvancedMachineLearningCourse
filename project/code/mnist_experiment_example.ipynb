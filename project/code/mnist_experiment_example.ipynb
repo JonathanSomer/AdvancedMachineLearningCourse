{
 "cells": [
  {
   "cell_type": "code",
   "execution_count": 1,
   "metadata": {},
   "outputs": [
    {
     "name": "stderr",
     "output_type": "stream",
     "text": [
      "Using TensorFlow backend.\n"
     ]
    }
   ],
   "source": [
    "from mnist_classifier import *\n",
    "from mnist_data import *\n",
    "from cifar_classifer import *\n",
    "from cifar_data import *\n",
    "\n",
    "import numpy as np\n",
    "import random"
   ]
  },
  {
   "cell_type": "code",
   "execution_count": 2,
   "metadata": {},
   "outputs": [],
   "source": [
    "USE_FEATURES = True\n",
    "\n",
    "cls = MnistClassifier(use_features = USE_FEATURES)\n",
    "d = MnistData(use_features = USE_FEATURES, use_data_subset = True)\n",
    "DATASET_NAME = 'mnist'\n",
    "# cls = Cifar10Classifier()\n",
    "# d = Cifar10Data(use_data_subset = True)\n",
    "\n",
    "# DATASET_NAME = 'cifar10'"
   ]
  },
  {
   "cell_type": "markdown",
   "metadata": {},
   "source": [
    "## Train Mnist Classifier on all data"
   ]
  },
  {
   "cell_type": "code",
   "execution_count": 3,
   "metadata": {},
   "outputs": [
    {
     "name": "stdout",
     "output_type": "stream",
     "text": [
      "Train on 3000 samples, validate on 500 samples\n",
      "Epoch 1/12\n",
      "3000/3000 [==============================] - 0s 69us/step - loss: 3.7577 - acc: 0.1467 - val_loss: 1.6136 - val_acc: 0.3760\n",
      "Epoch 2/12\n",
      "3000/3000 [==============================] - 0s 12us/step - loss: 1.9120 - acc: 0.4080 - val_loss: 0.6542 - val_acc: 0.8280\n",
      "Epoch 3/12\n",
      "3000/3000 [==============================] - 0s 11us/step - loss: 1.1039 - acc: 0.6273 - val_loss: 0.3661 - val_acc: 0.9240\n",
      "Epoch 4/12\n",
      "3000/3000 [==============================] - 0s 12us/step - loss: 0.7513 - acc: 0.7263 - val_loss: 0.2466 - val_acc: 0.9520\n",
      "Epoch 5/12\n",
      "3000/3000 [==============================] - 0s 11us/step - loss: 0.5649 - acc: 0.8150 - val_loss: 0.1831 - val_acc: 0.9680\n",
      "Epoch 6/12\n",
      "3000/3000 [==============================] - 0s 11us/step - loss: 0.4175 - acc: 0.8640 - val_loss: 0.1468 - val_acc: 0.9740\n",
      "Epoch 7/12\n",
      "3000/3000 [==============================] - 0s 11us/step - loss: 0.3617 - acc: 0.8847 - val_loss: 0.1244 - val_acc: 0.9740\n",
      "Epoch 8/12\n",
      "3000/3000 [==============================] - 0s 11us/step - loss: 0.2924 - acc: 0.9090 - val_loss: 0.1086 - val_acc: 0.9720\n",
      "Epoch 9/12\n",
      "3000/3000 [==============================] - 0s 10us/step - loss: 0.2544 - acc: 0.9290 - val_loss: 0.0957 - val_acc: 0.9740\n",
      "Epoch 10/12\n",
      "3000/3000 [==============================] - 0s 11us/step - loss: 0.2295 - acc: 0.9340 - val_loss: 0.0881 - val_acc: 0.9760\n",
      "Epoch 11/12\n",
      "3000/3000 [==============================] - 0s 11us/step - loss: 0.2071 - acc: 0.9427 - val_loss: 0.0812 - val_acc: 0.9760\n",
      "Epoch 12/12\n",
      "3000/3000 [==============================] - 0s 11us/step - loss: 0.1909 - acc: 0.9473 - val_loss: 0.0760 - val_acc: 0.9760\n"
     ]
    }
   ],
   "source": [
    "cls.fit(*d.into_fit())"
   ]
  },
  {
   "cell_type": "code",
   "execution_count": 4,
   "metadata": {},
   "outputs": [
    {
     "name": "stdout",
     "output_type": "stream",
     "text": [
      "500/500 [==============================] - 0s 22us/step\n",
      "Test loss: 0.07601340371370316\n",
      "Test accuracy: 0.976\n"
     ]
    },
    {
     "data": {
      "text/plain": [
       "[0.07601340371370316, 0.976]"
      ]
     },
     "execution_count": 4,
     "metadata": {},
     "output_type": "execute_result"
    }
   ],
   "source": [
    "cls.evaluate(*d.into_evaluate())"
   ]
  },
  {
   "cell_type": "markdown",
   "metadata": {},
   "source": [
    "## Train Mnist Classifier on all data but class 5"
   ]
  },
  {
   "cell_type": "code",
   "execution_count": 5,
   "metadata": {},
   "outputs": [
    {
     "name": "stdout",
     "output_type": "stream",
     "text": [
      "Removed class # 5\n",
      "current number of examples per class -- train:\n",
      " {0: 285, 1: 339, 2: 299, 3: 295, 4: 325, 6: 306, 7: 329, 8: 261, 9: 287}\n",
      "\n",
      "current number of examples per class -- test:\n",
      " {0: 42, 1: 67, 2: 55, 3: 45, 4: 55, 6: 43, 7: 49, 8: 40, 9: 54}\n"
     ]
    }
   ],
   "source": [
    "# get n_classes from data object. no more global constants\n",
    "n_classes = d.get_num_classes()\n",
    "\n",
    "# we'll just use class #5\n",
    "d.set_removed_class(class_index = 5, verbose = True)"
   ]
  },
  {
   "cell_type": "code",
   "execution_count": 6,
   "metadata": {},
   "outputs": [
    {
     "name": "stdout",
     "output_type": "stream",
     "text": [
      "Train on 2726 samples, validate on 450 samples\n",
      "Epoch 1/12\n",
      "2726/2726 [==============================] - 0s 73us/step - loss: 2.9044 - acc: 0.2014 - val_loss: 1.0693 - val_acc: 0.5978\n",
      "Epoch 2/12\n",
      "2726/2726 [==============================] - 0s 12us/step - loss: 1.4677 - acc: 0.4985 - val_loss: 0.4463 - val_acc: 0.9289\n",
      "Epoch 3/12\n",
      "2726/2726 [==============================] - 0s 12us/step - loss: 0.8539 - acc: 0.6933 - val_loss: 0.2704 - val_acc: 0.9533\n",
      "Epoch 4/12\n",
      "2726/2726 [==============================] - 0s 12us/step - loss: 0.5922 - acc: 0.7986 - val_loss: 0.1901 - val_acc: 0.9622\n",
      "Epoch 5/12\n",
      "2726/2726 [==============================] - 0s 13us/step - loss: 0.4371 - acc: 0.8577 - val_loss: 0.1497 - val_acc: 0.9667\n",
      "Epoch 6/12\n",
      "2726/2726 [==============================] - 0s 12us/step - loss: 0.3409 - acc: 0.8936 - val_loss: 0.1310 - val_acc: 0.9689\n",
      "Epoch 7/12\n",
      "2726/2726 [==============================] - 0s 11us/step - loss: 0.3108 - acc: 0.8995 - val_loss: 0.1113 - val_acc: 0.9689\n",
      "Epoch 8/12\n",
      "2726/2726 [==============================] - 0s 12us/step - loss: 0.2548 - acc: 0.9266 - val_loss: 0.0999 - val_acc: 0.9689\n",
      "Epoch 9/12\n",
      "2726/2726 [==============================] - 0s 11us/step - loss: 0.2418 - acc: 0.9274 - val_loss: 0.0890 - val_acc: 0.9711\n",
      "Epoch 10/12\n",
      "2726/2726 [==============================] - 0s 11us/step - loss: 0.2066 - acc: 0.9417 - val_loss: 0.0845 - val_acc: 0.9733\n",
      "Epoch 11/12\n",
      "2726/2726 [==============================] - 0s 11us/step - loss: 0.1794 - acc: 0.9486 - val_loss: 0.0777 - val_acc: 0.9756\n",
      "Epoch 12/12\n",
      "2726/2726 [==============================] - 0s 11us/step - loss: 0.1750 - acc: 0.9505 - val_loss: 0.0735 - val_acc: 0.9756\n"
     ]
    }
   ],
   "source": [
    "cls.fit(*d.into_fit())"
   ]
  },
  {
   "cell_type": "code",
   "execution_count": 7,
   "metadata": {},
   "outputs": [
    {
     "name": "stdout",
     "output_type": "stream",
     "text": [
      "450/450 [==============================] - 0s 19us/step\n",
      "Test loss: 0.07345704767853022\n",
      "Test accuracy: 0.9755555555555555\n"
     ]
    },
    {
     "data": {
      "text/plain": [
       "[0.07345704767853022, 0.9755555555555555]"
      ]
     },
     "execution_count": 7,
     "metadata": {},
     "output_type": "execute_result"
    }
   ],
   "source": [
    "cls.evaluate(*d.into_evaluate())"
   ]
  },
  {
   "cell_type": "markdown",
   "metadata": {},
   "source": [
    "## Train using n samples of the class removed"
   ]
  },
  {
   "cell_type": "code",
   "execution_count": 8,
   "metadata": {},
   "outputs": [
    {
     "name": "stdout",
     "output_type": "stream",
     "text": [
      "Train on 2746 samples, validate on 500 samples\n",
      "Epoch 1/12\n",
      "2746/2746 [==============================] - 0s 77us/step - loss: 3.2115 - acc: 0.2185 - val_loss: 1.1636 - val_acc: 0.5080\n",
      "Epoch 2/12\n",
      "2746/2746 [==============================] - 0s 11us/step - loss: 1.7455 - acc: 0.4414 - val_loss: 0.4618 - val_acc: 0.8140\n",
      "Epoch 3/12\n",
      "2746/2746 [==============================] - 0s 11us/step - loss: 1.0869 - acc: 0.6304 - val_loss: 0.2528 - val_acc: 0.8540\n",
      "Epoch 4/12\n",
      "2746/2746 [==============================] - 0s 12us/step - loss: 0.7374 - acc: 0.7433 - val_loss: 0.1692 - val_acc: 0.8700\n",
      "Epoch 5/12\n",
      "2746/2746 [==============================] - 0s 12us/step - loss: 0.5353 - acc: 0.8161 - val_loss: 0.1307 - val_acc: 0.8800\n",
      "Epoch 6/12\n",
      "2746/2746 [==============================] - 0s 12us/step - loss: 0.4391 - acc: 0.8489 - val_loss: 0.1054 - val_acc: 0.8840\n",
      "Epoch 7/12\n",
      "2746/2746 [==============================] - 0s 12us/step - loss: 0.3575 - acc: 0.8809 - val_loss: 0.0898 - val_acc: 0.8900\n",
      "Epoch 8/12\n",
      "2746/2746 [==============================] - 0s 11us/step - loss: 0.3018 - acc: 0.8966 - val_loss: 0.0799 - val_acc: 0.8880\n",
      "Epoch 9/12\n",
      "2746/2746 [==============================] - 0s 12us/step - loss: 0.2559 - acc: 0.9122 - val_loss: 0.0725 - val_acc: 0.8900\n",
      "Epoch 10/12\n",
      "2746/2746 [==============================] - 0s 11us/step - loss: 0.2359 - acc: 0.9239 - val_loss: 0.0671 - val_acc: 0.8880\n",
      "Epoch 11/12\n",
      "2746/2746 [==============================] - 0s 11us/step - loss: 0.2116 - acc: 0.9312 - val_loss: 0.0596 - val_acc: 0.8900\n",
      "Epoch 12/12\n",
      "2746/2746 [==============================] - 0s 10us/step - loss: 0.1909 - acc: 0.9392 - val_loss: 0.0567 - val_acc: 0.8900\n"
     ]
    }
   ],
   "source": [
    "d.set_number_of_samples_to_use(n = 20)\n",
    "cls.fit(*d.into_fit())"
   ]
  },
  {
   "cell_type": "code",
   "execution_count": 9,
   "metadata": {},
   "outputs": [
    {
     "name": "stdout",
     "output_type": "stream",
     "text": [
      "500/500 [==============================] - 0s 20us/step\n",
      "Test loss: 0.056680871903896334\n",
      "Test accuracy: 0.8899999995231629\n"
     ]
    },
    {
     "data": {
      "text/plain": [
       "[0.056680871903896334, 0.8899999995231629]"
      ]
     },
     "execution_count": 9,
     "metadata": {},
     "output_type": "execute_result"
    }
   ],
   "source": [
    "cls.evaluate(*d.into_evaluate())"
   ]
  },
  {
   "cell_type": "markdown",
   "metadata": {},
   "source": [
    "## Train using n samples + generated data"
   ]
  },
  {
   "cell_type": "code",
   "execution_count": 10,
   "metadata": {},
   "outputs": [
    {
     "name": "stdout",
     "output_type": "stream",
     "text": [
      "Train on 2796 samples, validate on 500 samples\n",
      "Epoch 1/12\n",
      "2796/2796 [==============================] - 0s 84us/step - loss: 2.8942 - acc: 0.2514 - val_loss: 1.0808 - val_acc: 0.5760\n",
      "Epoch 2/12\n",
      "2796/2796 [==============================] - 0s 12us/step - loss: 1.3962 - acc: 0.5125 - val_loss: 0.4199 - val_acc: 0.8040\n",
      "Epoch 3/12\n",
      "2796/2796 [==============================] - 0s 11us/step - loss: 0.8847 - acc: 0.6660 - val_loss: 0.2283 - val_acc: 0.8660\n",
      "Epoch 4/12\n",
      "2796/2796 [==============================] - 0s 11us/step - loss: 0.5691 - acc: 0.7750 - val_loss: 0.1581 - val_acc: 0.8800\n",
      "Epoch 5/12\n",
      "2796/2796 [==============================] - 0s 10us/step - loss: 0.4354 - acc: 0.8290 - val_loss: 0.1229 - val_acc: 0.8820\n",
      "Epoch 6/12\n",
      "2796/2796 [==============================] - 0s 12us/step - loss: 0.3523 - acc: 0.8623 - val_loss: 0.1014 - val_acc: 0.8820\n",
      "Epoch 7/12\n",
      "2796/2796 [==============================] - 0s 11us/step - loss: 0.2987 - acc: 0.8759 - val_loss: 0.0875 - val_acc: 0.8820\n",
      "Epoch 8/12\n",
      "2796/2796 [==============================] - 0s 12us/step - loss: 0.2480 - acc: 0.8977 - val_loss: 0.0767 - val_acc: 0.8820\n",
      "Epoch 9/12\n",
      "2796/2796 [==============================] - 0s 11us/step - loss: 0.2390 - acc: 0.9031 - val_loss: 0.0688 - val_acc: 0.8820\n",
      "Epoch 10/12\n",
      "2796/2796 [==============================] - 0s 11us/step - loss: 0.2087 - acc: 0.9142 - val_loss: 0.0636 - val_acc: 0.8860\n",
      "Epoch 11/12\n",
      "2796/2796 [==============================] - 0s 11us/step - loss: 0.1922 - acc: 0.9156 - val_loss: 0.0596 - val_acc: 0.8860\n",
      "Epoch 12/12\n",
      "2796/2796 [==============================] - 0s 11us/step - loss: 0.1752 - acc: 0.9256 - val_loss: 0.0566 - val_acc: 0.8860\n"
     ]
    }
   ],
   "source": [
    "generated_data = d.get_generated_data_stub()\n",
    "\n",
    "d.set_generated_data(generated_data)\n",
    "cls.fit(*d.into_fit())"
   ]
  },
  {
   "cell_type": "code",
   "execution_count": 11,
   "metadata": {},
   "outputs": [
    {
     "name": "stdout",
     "output_type": "stream",
     "text": [
      "500/500 [==============================] - 0s 18us/step\n",
      "Test loss: 0.056604636669158936\n",
      "Test accuracy: 0.886\n"
     ]
    },
    {
     "data": {
      "text/plain": [
       "[0.056604636669158936, 0.886]"
      ]
     },
     "execution_count": 11,
     "metadata": {},
     "output_type": "execute_result"
    }
   ],
   "source": [
    "cls.evaluate(*d.into_evaluate())"
   ]
  },
  {
   "cell_type": "markdown",
   "metadata": {},
   "source": [
    "## To Low Shot Dataset Method"
   ]
  },
  {
   "cell_type": "code",
   "execution_count": 12,
   "metadata": {},
   "outputs": [
    {
     "name": "stdout",
     "output_type": "stream",
     "text": [
      "Note class removed paramater was overriden. re-Run d.set_removed_class() if needed\n"
     ]
    }
   ],
   "source": [
    "lsds = d.to_low_shot_dataset(verbose=True)"
   ]
  },
  {
   "cell_type": "markdown",
   "metadata": {},
   "source": [
    "## Generator Benchmark"
   ]
  },
  {
   "cell_type": "code",
   "execution_count": 13,
   "metadata": {},
   "outputs": [],
   "source": [
    "# from mnist_classifier import *\n",
    "# from mnist_data import *\n",
    "# import numpy as np\n",
    "# import random\n",
    "# from generator import *\n",
    "\n",
    "# cls = MnistClassifier\n",
    "# d = MnistData(use_data_subset = True)"
   ]
  },
  {
   "cell_type": "code",
   "execution_count": 14,
   "metadata": {},
   "outputs": [],
   "source": [
    "# LowShotGenerator.benchmark(Classifier=cls, \n",
    "#                            data_object=d,\n",
    "#                            dataset_name=DATASET_NAME,\n",
    "#                            n_clusters=10,\n",
    "#                            λ = 0.95)"
   ]
  }
 ],
 "metadata": {
  "kernelspec": {
   "display_name": "low_shot",
   "language": "python",
   "name": "low_shot"
  },
  "language_info": {
   "codemirror_mode": {
    "name": "ipython",
    "version": 3
   },
   "file_extension": ".py",
   "mimetype": "text/x-python",
   "name": "python",
   "nbconvert_exporter": "python",
   "pygments_lexer": "ipython3",
   "version": "3.6.6"
  }
 },
 "nbformat": 4,
 "nbformat_minor": 2
}
