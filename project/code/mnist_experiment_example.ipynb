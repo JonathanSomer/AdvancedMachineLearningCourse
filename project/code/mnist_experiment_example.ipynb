{
 "cells": [
  {
   "cell_type": "code",
   "execution_count": 1,
   "metadata": {},
   "outputs": [
    {
     "name": "stderr",
     "output_type": "stream",
     "text": [
      "Using TensorFlow backend.\n"
     ]
    }
   ],
   "source": [
    "from mnist_classifier import *\n",
    "from mnist_data import *\n",
    "import numpy as np\n",
    "import random"
   ]
  },
  {
   "cell_type": "code",
   "execution_count": 2,
   "metadata": {},
   "outputs": [],
   "source": [
    "cls = MnistClassifier()\n",
    "d = MnistData(use_data_subset = True)"
   ]
  },
  {
   "cell_type": "markdown",
   "metadata": {},
   "source": [
    "## Train Mnist Classifier on all data"
   ]
  },
  {
   "cell_type": "code",
   "execution_count": 3,
   "metadata": {},
   "outputs": [
    {
     "name": "stdout",
     "output_type": "stream",
     "text": [
      "Train on 6000 samples, validate on 1000 samples\n",
      "Epoch 1/1\n",
      "6000/6000 [==============================] - 13s 2ms/step - loss: 0.9745 - acc: 0.6810 - val_loss: 0.3648 - val_acc: 0.8980\n"
     ]
    }
   ],
   "source": [
    "cls.fit(*d.into_fit())"
   ]
  },
  {
   "cell_type": "code",
   "execution_count": 4,
   "metadata": {},
   "outputs": [
    {
     "name": "stdout",
     "output_type": "stream",
     "text": [
      "1000/1000 [==============================] - 1s 581us/step\n",
      "Test loss: 0.3647724571228027\n",
      "Test accuracy: 0.898\n"
     ]
    },
    {
     "data": {
      "text/plain": [
       "[0.3647724571228027, 0.898]"
      ]
     },
     "execution_count": 4,
     "metadata": {},
     "output_type": "execute_result"
    }
   ],
   "source": [
    "cls.evaluate(*d.into_evaluate())"
   ]
  },
  {
   "cell_type": "markdown",
   "metadata": {},
   "source": [
    "## Train Mnist Classifier on all data but class 5"
   ]
  },
  {
   "cell_type": "code",
   "execution_count": 5,
   "metadata": {},
   "outputs": [
    {
     "name": "stdout",
     "output_type": "stream",
     "text": [
      "current number of examples per digit -- train:\n",
      " {0: 592, 1: 671, 2: 581, 3: 608, 4: 623, 6: 608, 7: 651, 8: 551, 9: 601}\n",
      "\n",
      "current number of examples per digit -- test:\n",
      " {0: 85, 1: 126, 2: 116, 3: 107, 4: 110, 6: 87, 7: 99, 8: 89, 9: 94}\n"
     ]
    }
   ],
   "source": [
    "# get n_classes from data object. no more global constants\n",
    "n_classes = d.get_num_classes()\n",
    "\n",
    "# we'll just use 5\n",
    "d.set_removed_class(5, verbose=True)"
   ]
  },
  {
   "cell_type": "code",
   "execution_count": 6,
   "metadata": {},
   "outputs": [
    {
     "name": "stdout",
     "output_type": "stream",
     "text": [
      "Train on 5486 samples, validate on 913 samples\n",
      "Epoch 1/1\n",
      "5486/5486 [==============================] - 12s 2ms/step - loss: 0.8754 - acc: 0.7147 - val_loss: 0.3078 - val_acc: 0.9014\n"
     ]
    }
   ],
   "source": [
    "cls.fit(*d.into_fit())"
   ]
  },
  {
   "cell_type": "code",
   "execution_count": 7,
   "metadata": {},
   "outputs": [
    {
     "name": "stdout",
     "output_type": "stream",
     "text": [
      "1000/1000 [==============================] - 1s 697us/step\n",
      "Test loss: 0.28098332381248475\n",
      "Test accuracy: 0.825\n"
     ]
    },
    {
     "data": {
      "text/plain": [
       "[0.28098332381248475, 0.825]"
      ]
     },
     "execution_count": 7,
     "metadata": {},
     "output_type": "execute_result"
    }
   ],
   "source": [
    "cls.evaluate(*d.into_evaluate())"
   ]
  },
  {
   "cell_type": "markdown",
   "metadata": {},
   "source": [
    "## Train using n samples of the class removed"
   ]
  },
  {
   "cell_type": "code",
   "execution_count": 8,
   "metadata": {},
   "outputs": [
    {
     "name": "stdout",
     "output_type": "stream",
     "text": [
      "Train on 5506 samples, validate on 1000 samples\n",
      "Epoch 1/1\n",
      "5506/5506 [==============================] - 12s 2ms/step - loss: 0.8685 - acc: 0.7134 - val_loss: 0.4107 - val_acc: 0.7780\n"
     ]
    }
   ],
   "source": [
    "cls.fit(*d.into_fit(n = 20))"
   ]
  },
  {
   "cell_type": "code",
   "execution_count": 9,
   "metadata": {},
   "outputs": [
    {
     "name": "stdout",
     "output_type": "stream",
     "text": [
      "1000/1000 [==============================] - 1s 570us/step\n",
      "Test loss: 0.4107179440259933\n",
      "Test accuracy: 0.778\n"
     ]
    },
    {
     "data": {
      "text/plain": [
       "[0.4107179440259933, 0.778]"
      ]
     },
     "execution_count": 9,
     "metadata": {},
     "output_type": "execute_result"
    }
   ],
   "source": [
    "cls.evaluate(*d.into_evaluate())"
   ]
  },
  {
   "cell_type": "markdown",
   "metadata": {},
   "source": [
    "## Train using n samples + generated data"
   ]
  },
  {
   "cell_type": "code",
   "execution_count": 10,
   "metadata": {},
   "outputs": [
    {
     "name": "stdout",
     "output_type": "stream",
     "text": [
      "Train on 5556 samples, validate on 1000 samples\n",
      "Epoch 1/1\n",
      "5556/5556 [==============================] - 11s 2ms/step - loss: 0.8881 - acc: 0.7009 - val_loss: 0.3482 - val_acc: 0.8230\n"
     ]
    }
   ],
   "source": [
    "generated_data = d.get_generated_data_stub()\n",
    "cls.fit(*d.into_fit(n = 20, generated_data = generated_data))"
   ]
  },
  {
   "cell_type": "code",
   "execution_count": 11,
   "metadata": {},
   "outputs": [
    {
     "name": "stdout",
     "output_type": "stream",
     "text": [
      "1000/1000 [==============================] - 1s 571us/step\n",
      "Test loss: 0.3481994481086731\n",
      "Test accuracy: 0.823\n"
     ]
    },
    {
     "data": {
      "text/plain": [
       "[0.3481994481086731, 0.823]"
      ]
     },
     "execution_count": 11,
     "metadata": {},
     "output_type": "execute_result"
    }
   ],
   "source": [
    "cls.evaluate(*d.into_evaluate())"
   ]
  },
  {
   "cell_type": "markdown",
   "metadata": {},
   "source": [
    "## To Low Shot Dataset Method"
   ]
  },
  {
   "cell_type": "code",
   "execution_count": 4,
   "metadata": {},
   "outputs": [
    {
     "name": "stdout",
     "output_type": "stream",
     "text": [
      "Note class removed paramater was overriden. re-Run d.set_removed_class() if needed\n"
     ]
    }
   ],
   "source": [
    "lsds = d.to_low_shot_dataset(verbose=True)"
   ]
  }
 ],
 "metadata": {
  "kernelspec": {
   "display_name": "low_shot",
   "language": "python",
   "name": "low_shot"
  },
  "language_info": {
   "codemirror_mode": {
    "name": "ipython",
    "version": 3
   },
   "file_extension": ".py",
   "mimetype": "text/x-python",
   "name": "python",
   "nbconvert_exporter": "python",
   "pygments_lexer": "ipython3",
   "version": "3.6.6"
  }
 },
 "nbformat": 4,
 "nbformat_minor": 2
}
