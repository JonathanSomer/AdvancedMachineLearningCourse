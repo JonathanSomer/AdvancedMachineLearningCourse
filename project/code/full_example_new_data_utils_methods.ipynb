{
 "cells": [
  {
   "cell_type": "code",
   "execution_count": 1,
   "metadata": {},
   "outputs": [
    {
     "name": "stderr",
     "output_type": "stream",
     "text": [
      "Using TensorFlow backend.\n"
     ]
    }
   ],
   "source": [
    "from generator import LowShotGenerator\n",
    "from data_utils import *\n",
    "from sklearn.model_selection import train_test_split\n",
    "import pandas as pd\n",
    "from classifier import Classifier"
   ]
  },
  {
   "cell_type": "markdown",
   "metadata": {},
   "source": [
    "## Initial Fetch Data - Perform once"
   ]
  },
  {
   "cell_type": "code",
   "execution_count": 2,
   "metadata": {},
   "outputs": [
    {
     "name": "stdout",
     "output_type": "stream",
     "text": [
      "fetching data from file #1\n"
     ]
    }
   ],
   "source": [
    "data_obj = get_processed_data(num_files_to_fetch_data_from=1)\n",
    "X, y = get_features_and_labels(data_obj)"
   ]
  },
  {
   "cell_type": "markdown",
   "metadata": {},
   "source": [
    "## Train a classifier on all diseases but one:"
   ]
  },
  {
   "cell_type": "code",
   "execution_count": 3,
   "metadata": {},
   "outputs": [],
   "source": [
    "diseases_to_remove = ['Hernia']\n",
    "X_no_hernia, y_no_hernia = remove_diseases(X, y, diseases_to_remove, data_obj)\n",
    "X_train, X_test, y_train, y_test = get_train_test_split(X_no_hernia, y_no_hernia, test_size=0.1)"
   ]
  },
  {
   "cell_type": "code",
   "execution_count": 4,
   "metadata": {},
   "outputs": [
    {
     "name": "stdout",
     "output_type": "stream",
     "text": [
      "Train on 3367 samples, validate on 375 samples\n",
      "Epoch 1/1\n",
      "3367/3367 [==============================] - 1s 253us/step - loss: 9.0971 - acc: 0.0968 - val_loss: 7.3201 - val_acc: 0.1147\n",
      "416/416 [==============================] - 0s 209us/step\n",
      "accuracy acheived: 0.100962\n"
     ]
    }
   ],
   "source": [
    "cls = Classifier(n_classes=N_CLASSES - len(diseases_to_remove), n_epochs=1)\n",
    "cls.fit(X_train, y_train)\n",
    "print(\"accuracy acheived: %f\" % cls.evaluate(X_test, y_test)[1])"
   ]
  },
  {
   "cell_type": "markdown",
   "metadata": {},
   "source": [
    "## Train a classifier on n_samples of one disease"
   ]
  },
  {
   "cell_type": "code",
   "execution_count": 5,
   "metadata": {},
   "outputs": [
    {
     "name": "stdout",
     "output_type": "stream",
     "text": [
      "Train on 2808 samples, validate on 312 samples\n",
      "Epoch 1/1\n",
      "2808/2808 [==============================] - 1s 283us/step - loss: 9.0346 - acc: 0.0627 - val_loss: 8.2323 - val_acc: 0.0769\n",
      "1055/1055 [==============================] - 0s 175us/step\n",
      "accuracy acheived: 0.090995\n"
     ]
    }
   ],
   "source": [
    "n = 2\n",
    "disease = 'Hernia'\n",
    "X_train, X_test, y_train, y_test, n_samples_features, n_samples_integer_labels = get_train_test_split_with_n_samples_of_disease(X, y, disease, data_obj, n)\n",
    "\n",
    "cls = Classifier(n_classes=N_CLASSES, n_epochs=1)\n",
    "cls.fit(X_train, y_train)\n",
    "print(\"accuracy acheived: %f\" % cls.evaluate(X_test, y_test)[1])"
   ]
  },
  {
   "cell_type": "markdown",
   "metadata": {},
   "source": [
    "## Train a classifier on n_samples + generated data"
   ]
  },
  {
   "cell_type": "code",
   "execution_count": 6,
   "metadata": {},
   "outputs": [
    {
     "name": "stdout",
     "output_type": "stream",
     "text": [
      "Train on 2809 samples, validate on 313 samples\n",
      "Epoch 1/1\n",
      "2809/2809 [==============================] - 1s 252us/step - loss: 9.0020 - acc: 0.0477 - val_loss: 7.9453 - val_acc: 0.0607\n",
      "1055/1055 [==============================] - 0s 165us/step\n",
      "accuracy acheived: 0.053081\n"
     ]
    }
   ],
   "source": [
    "# use n_samples_features, n_samples_integer_labels to generate new data\n",
    "# generated_features = \n",
    "# generated_data_label = \n",
    "\n",
    "X_train, X_test, y_train, y_test = get_train_test_with_generated_data(X_train, X_test, y_train, y_test, generated_features, generated_data_label)\n",
    "cls = Classifier(n_classes=N_CLASSES, n_epochs=1)\n",
    "cls.fit(X_train, y_train)\n",
    "print(\"accuracy acheived: %f\" % cls.evaluate(X_test, y_test)[1])"
   ]
  },
  {
   "cell_type": "code",
   "execution_count": null,
   "metadata": {},
   "outputs": [],
   "source": []
  }
 ],
 "metadata": {
  "kernelspec": {
   "display_name": "low_shot",
   "language": "python",
   "name": "low_shot"
  },
  "language_info": {
   "codemirror_mode": {
    "name": "ipython",
    "version": 3
   },
   "file_extension": ".py",
   "mimetype": "text/x-python",
   "name": "python",
   "nbconvert_exporter": "python",
   "pygments_lexer": "ipython3",
   "version": "3.6.6"
  }
 },
 "nbformat": 4,
 "nbformat_minor": 2
}
