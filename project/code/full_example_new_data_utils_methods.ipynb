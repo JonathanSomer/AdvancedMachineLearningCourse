{
 "cells": [
  {
   "cell_type": "code",
   "execution_count": 1,
   "metadata": {},
   "outputs": [
    {
     "name": "stderr",
     "output_type": "stream",
     "text": [
      "Using TensorFlow backend.\n"
     ]
    }
   ],
   "source": [
    "from generator import LowShotGenerator\n",
    "from data_utils import *\n",
    "from sklearn.model_selection import train_test_split\n",
    "import pandas as pd\n",
    "from classifier import Classifier"
   ]
  },
  {
   "cell_type": "markdown",
   "metadata": {},
   "source": [
    "## Constants:"
   ]
  },
  {
   "cell_type": "code",
   "execution_count": 3,
   "metadata": {},
   "outputs": [],
   "source": [
    "disease = 'Hernia'\n",
    "n = 2"
   ]
  },
  {
   "cell_type": "markdown",
   "metadata": {},
   "source": [
    "## Initial Fetch Data - Perform once"
   ]
  },
  {
   "cell_type": "code",
   "execution_count": 2,
   "metadata": {},
   "outputs": [
    {
     "name": "stdout",
     "output_type": "stream",
     "text": [
      "fetching data from file #1\n"
     ]
    }
   ],
   "source": [
    "data_obj = get_processed_data(num_files_to_fetch_data_from=1)\n",
    "X, y = get_features_and_labels(data_obj)"
   ]
  },
  {
   "cell_type": "markdown",
   "metadata": {},
   "source": [
    "## Train a classifier on all diseases but one:"
   ]
  },
  {
   "cell_type": "code",
   "execution_count": 5,
   "metadata": {},
   "outputs": [
    {
     "name": "stdout",
     "output_type": "stream",
     "text": [
      "Train on 3367 samples, validate on 375 samples\n",
      "Epoch 1/1\n",
      "3367/3367 [==============================] - 1s 334us/step - loss: 9.8943 - acc: 0.1051 - val_loss: 7.8664 - val_acc: 0.0533\n",
      "416/416 [==============================] - 0s 201us/step\n",
      "accuracy acheived: 0.055288\n"
     ]
    }
   ],
   "source": [
    "X_train, X_test, y_train, y_test = get_train_test_split_without_disease(X, y, disease, data_obj)\n",
    "\n",
    "cls = Classifier(n_classes=N_CLASSES - 1, n_epochs=1)\n",
    "cls.fit(X_train, y_train)\n",
    "print(\"accuracy acheived: %f\" % cls.evaluate(X_test, y_test)[1])"
   ]
  },
  {
   "cell_type": "markdown",
   "metadata": {},
   "source": [
    "## Train a classifier on n_samples of one disease"
   ]
  },
  {
   "cell_type": "code",
   "execution_count": 6,
   "metadata": {},
   "outputs": [
    {
     "name": "stdout",
     "output_type": "stream",
     "text": [
      "Train on 2808 samples, validate on 312 samples\n",
      "Epoch 1/1\n",
      "2808/2808 [==============================] - 1s 272us/step - loss: 8.5653 - acc: 0.0780 - val_loss: 12.0664 - val_acc: 0.0513\n",
      "1055/1055 [==============================] - 0s 153us/step\n",
      "accuracy acheived: 0.066351\n"
     ]
    }
   ],
   "source": [
    "X_train, X_test, y_train, y_test, n_samples_features, n_samples_integer_labels = get_train_test_split_with_n_samples_of_disease(X, y, disease, data_obj, n)\n",
    "\n",
    "cls = Classifier(n_classes=N_CLASSES, n_epochs=1)\n",
    "cls.fit(X_train, y_train)\n",
    "print(\"accuracy acheived: %f\" % cls.evaluate(X_test, y_test)[1])"
   ]
  },
  {
   "cell_type": "markdown",
   "metadata": {},
   "source": [
    "## Train a classifier on n_samples + generated data"
   ]
  },
  {
   "cell_type": "code",
   "execution_count": 8,
   "metadata": {},
   "outputs": [
    {
     "name": "stdout",
     "output_type": "stream",
     "text": [
      "Train on 2809 samples, validate on 313 samples\n",
      "Epoch 1/1\n",
      "2809/2809 [==============================] - 1s 237us/step - loss: 7.7976 - acc: 0.0605 - val_loss: 5.8063 - val_acc: 0.1118\n",
      "1055/1055 [==============================] - 0s 153us/step\n",
      "accuracy acheived: 0.104265\n"
     ]
    }
   ],
   "source": [
    "# use n_samples_features, n_samples_integer_labels to generate new data\n",
    "# generated_features = \n",
    "# generated_data_label = \n",
    "\n",
    "X_train, X_test, y_train, y_test = get_train_test_with_generated_data(X_train, X_test, y_train, y_test, generated_features, generated_data_label)\n",
    "\n",
    "cls = Classifier(n_classes=N_CLASSES, n_epochs=1)\n",
    "cls.fit(X_train, y_train)\n",
    "print(\"accuracy acheived: %f\" % cls.evaluate(X_test, y_test)[1])"
   ]
  },
  {
   "cell_type": "code",
   "execution_count": null,
   "metadata": {},
   "outputs": [],
   "source": []
  }
 ],
 "metadata": {
  "kernelspec": {
   "display_name": "low_shot",
   "language": "python",
   "name": "low_shot"
  },
  "language_info": {
   "codemirror_mode": {
    "name": "ipython",
    "version": 3
   },
   "file_extension": ".py",
   "mimetype": "text/x-python",
   "name": "python",
   "nbconvert_exporter": "python",
   "pygments_lexer": "ipython3",
   "version": "3.6.6"
  }
 },
 "nbformat": 4,
 "nbformat_minor": 2
}
