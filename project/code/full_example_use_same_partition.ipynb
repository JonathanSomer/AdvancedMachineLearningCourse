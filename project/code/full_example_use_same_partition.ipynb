{
 "cells": [
  {
   "cell_type": "code",
   "execution_count": 1,
   "metadata": {},
   "outputs": [
    {
     "name": "stderr",
     "output_type": "stream",
     "text": [
      "Using TensorFlow backend.\n"
     ]
    }
   ],
   "source": [
    "from generator import LowShotGenerator\n",
    "from data_utils import *\n",
    "from sklearn.model_selection import train_test_split\n",
    "import pandas as pd\n",
    "from classifier import Classifier"
   ]
  },
  {
   "cell_type": "code",
   "execution_count": 2,
   "metadata": {},
   "outputs": [
    {
     "name": "stdout",
     "output_type": "stream",
     "text": [
      "fetching data from file #1\n",
      "fetching data from file #2\n"
     ]
    }
   ],
   "source": [
    "data_obj = get_processed_data(num_files_to_fetch_data_from=2)\n",
    "le = get_label_encoder(data_obj)\n",
    "\n",
    "X, y = get_features_and_labels(data_obj)"
   ]
  },
  {
   "cell_type": "code",
   "execution_count": 3,
   "metadata": {},
   "outputs": [],
   "source": [
    "n_clusters = 20\n",
    "λ = .5\n",
    "novel_disease_name = 'Hernia'\n",
    "novel_disease_label = le.transform((novel_disease_name,))[0]\n",
    "n = 2\n",
    "n_samples_to_generate = 20"
   ]
  },
  {
   "cell_type": "markdown",
   "metadata": {},
   "source": [
    "## Train a classifier on all but one diseases"
   ]
  },
  {
   "cell_type": "code",
   "execution_count": 4,
   "metadata": {},
   "outputs": [
    {
     "name": "stdout",
     "output_type": "stream",
     "text": [
      "Train on 10296 samples, validate on 1144 samples\n",
      "Epoch 1/1\n",
      "10296/10296 [==============================] - 8s 744us/step - loss: 7.0450 - acc: 0.0861 - val_loss: 5.8137 - val_acc: 0.0769\n",
      "1271/1271 [==============================] - 0s 227us/step\n",
      "accuracy acheived: 0.090480\n"
     ]
    }
   ],
   "source": [
    "X_train, X_test, y_train, y_test = new_get_train_test_split_without_disease(X, y, novel_disease_name, data_obj)\n",
    "\n",
    "cls = Classifier(n_classes=N_CLASSES - 1, n_epochs=1)\n",
    "cls.fit(X_train, new_onehot_encode(y_train, [novel_disease_label]))\n",
    "print(\"accuracy acheived: %f\" % cls.evaluate(X_test, new_onehot_encode(y_test, [novel_disease_label]))[1])"
   ]
  },
  {
   "cell_type": "markdown",
   "metadata": {},
   "source": [
    "## Use the trained classifier and generate new examples:"
   ]
  },
  {
   "cell_type": "code",
   "execution_count": 5,
   "metadata": {},
   "outputs": [],
   "source": [
    "all_samples_features, all_samples_labels, rest_features, rest_labels = get_all_disease_samples_and_rest(X,y, novel_disease_label, data_obj)"
   ]
  },
  {
   "cell_type": "code",
   "execution_count": 6,
   "metadata": {},
   "outputs": [],
   "source": [
    "X_test_with_disease, y_test_with_disease = add_disease_to_test_data(X_test, y_test, rest_features, rest_labels)"
   ]
  },
  {
   "cell_type": "code",
   "execution_count": 10,
   "metadata": {},
   "outputs": [],
   "source": [
    "X_train_with_disease_samples, y_train_with_disease_samples, n_samples_features = add_n_samples_to_train_data(X_train, y_train, all_samples_features, all_samples_labels, n)\n",
    "\n",
    "generated_features = n_samples_features\n",
    "# generated_features = LowShotGenerator.get_generated_features(cls,\n",
    "#                                                              novel_disease_label,\n",
    "#                                                              n_samples_features,\n",
    "#                                                              n_clusters,\n",
    "#                                                              λ,\n",
    "#                                                              n_samples_to_generate)"
   ]
  },
  {
   "cell_type": "markdown",
   "metadata": {},
   "source": [
    "## Train a classifier on real n_samples of one disease"
   ]
  },
  {
   "cell_type": "code",
   "execution_count": 11,
   "metadata": {},
   "outputs": [
    {
     "name": "stdout",
     "output_type": "stream",
     "text": [
      "Train on 10298 samples, validate on 1145 samples\n",
      "Epoch 1/1\n",
      "10298/10298 [==============================] - 6s 627us/step - loss: 8.3532 - acc: 0.1089 - val_loss: 9.7405 - val_acc: 0.1747\n",
      "1271/1271 [==============================] - 1s 987us/step\n",
      "accuracy acheived: 0.166011\n"
     ]
    }
   ],
   "source": [
    "cls = Classifier(n_classes=N_CLASSES, n_epochs=1)\n",
    "cls.fit(X_train_with_disease_samples, new_onehot_encode(y_train_with_disease_samples))\n",
    "print(\"accuracy acheived: %f\" % cls.evaluate(X_test_with_disease, new_onehot_encode(y_test_with_disease))[1])"
   ]
  },
  {
   "cell_type": "markdown",
   "metadata": {},
   "source": [
    "## Train a classifier on real n_samples + generated samples"
   ]
  },
  {
   "cell_type": "code",
   "execution_count": 12,
   "metadata": {},
   "outputs": [
    {
     "name": "stdout",
     "output_type": "stream",
     "text": [
      "Train on 10301 samples, validate on 1145 samples\n",
      "Epoch 1/1\n",
      "10301/10301 [==============================] - 6s 577us/step - loss: 7.6311 - acc: 0.0875 - val_loss: 7.1692 - val_acc: 0.1231\n",
      "1271/1271 [==============================] - 0s 196us/step\n",
      "accuracy acheived: 0.105429\n"
     ]
    }
   ],
   "source": [
    "generated_data_label = novel_disease_label\n",
    "X_train_with_generated_data, y_train_with_generated_data = add_generated_data_to_train_data(X_train_with_disease_samples, y_train_with_disease_samples, generated_features, generated_data_label)\n",
    "\n",
    "cls = Classifier(n_classes=N_CLASSES, n_epochs=1)\n",
    "cls.fit(X_train_with_generated_data, new_onehot_encode(y_train_with_generated_data))\n",
    "print(\"accuracy acheived: %f\" % cls.evaluate(X_test_with_disease, new_onehot_encode(y_test_with_disease))[1])"
   ]
  },
  {
   "cell_type": "code",
   "execution_count": null,
   "metadata": {},
   "outputs": [],
   "source": []
  }
 ],
 "metadata": {
  "kernelspec": {
   "display_name": "low_shot",
   "language": "python",
   "name": "low_shot"
  },
  "language_info": {
   "codemirror_mode": {
    "name": "ipython",
    "version": 3
   },
   "file_extension": ".py",
   "mimetype": "text/x-python",
   "name": "python",
   "nbconvert_exporter": "python",
   "pygments_lexer": "ipython3",
   "version": "3.6.6"
  }
 },
 "nbformat": 4,
 "nbformat_minor": 2
}
