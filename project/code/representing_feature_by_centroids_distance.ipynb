{
 "cells": [
  {
   "cell_type": "code",
   "execution_count": 1,
   "metadata": {},
   "outputs": [
    {
     "name": "stderr",
     "output_type": "stream",
     "text": [
      "/home/shared/anaconda3/lib/python3.6/site-packages/h5py/__init__.py:36: FutureWarning: Conversion of the second argument of issubdtype from `float` to `np.floating` is deprecated. In future, it will be treated as `np.float64 == np.dtype(float).type`.\n",
      "  from ._conv import register_converters as _register_converters\n",
      "Using TensorFlow backend.\n"
     ]
    }
   ],
   "source": [
    "import collect\n",
    "from mnist_data import MnistData\n",
    "from mnist_classifier import MnistClassifier\n",
    "\n",
    "from cifar_data import Cifar10Data\n",
    "from cifar_classifier import Cifar10Classifier\n",
    "\n",
    "data_dispatch = {'mnist': MnistData, 'cifar10': Cifar10Data, 'cifar': Cifar10Data}\n",
    "classifier_dispatch = {'mnist': MnistClassifier, 'cifar10': Cifar10Classifier, 'cifar': Cifar10Classifier}"
   ]
  },
  {
   "cell_type": "markdown",
   "metadata": {},
   "source": [
    "## Load data \n",
    "#### (changable by dataset_name)"
   ]
  },
  {
   "cell_type": "code",
   "execution_count": 2,
   "metadata": {},
   "outputs": [],
   "source": [
    "dataset_name = 'mnist'\n",
    "\n",
    "features_data = data_dispatch[dataset_name](use_features=True)\n",
    "raw_data = data_dispatch[dataset_name](use_features=False)\n",
    "\n",
    "features, features_labels = features_data._features_and_labels()\n",
    "images, raw_labels = raw_data._features_and_labels()\n",
    "\n",
    "n_clusters = 30\n",
    "data = collect.load_quadruplets(n_clusters, dataset_name=dataset_name)\n",
    "quadruplets, cat_to_centroids, cat_to_vectors, original_shape = data"
   ]
  },
  {
   "cell_type": "code",
   "execution_count": 15,
   "metadata": {},
   "outputs": [],
   "source": [
    "import numpy as np\n",
    "\n",
    "from scipy.spatial.distance import cosine\n",
    "\n",
    "\n",
    "def norm_measure(u, v):\n",
    "    return np.linalg.norm(u - v)\n",
    "\n",
    "\n",
    "def barplot_feature_centroids(ϕ, category, distance_measure=cosine):        \n",
    "    centroids = cat_to_centroids[category]\n",
    "    \n",
    "    distances = np.array([distance_measure(ϕ, centroid) for centroid in centroids])\n",
    "    return distances\n",
    "#     argsort = np.argsort(distances)\n",
    "#     return argsort, centroids\n"
   ]
  },
  {
   "cell_type": "code",
   "execution_count": 16,
   "metadata": {},
   "outputs": [],
   "source": [
    "feature, label = features[0], features_labels[0]\n",
    "distances = barplot_feature_centroids(feature, label)"
   ]
  },
  {
   "cell_type": "code",
   "execution_count": 17,
   "metadata": {},
   "outputs": [],
   "source": [
    "%matplotlib inline\n",
    "\n",
    "import matplotlib.pyplot as plt\n",
    "import pandas as pd\n"
   ]
  },
  {
   "cell_type": "code",
   "execution_count": 20,
   "metadata": {},
   "outputs": [
    {
     "data": {
      "image/png": "[encoded data removed]",
      "text/plain": [
       "<matplotlib.figure.Figure at 0x7fc4baacc9b0>"
      ]
     },
     "metadata": {},
     "output_type": "display_data"
    }
   ],
   "source": [
    "df = pd.DataFrame(distances)\n",
    "\n",
    "df.plot(kind='bar', figsize=(10, 10))\n",
    "\n",
    "plt.show()"
   ]
  },
  {
   "cell_type": "code",
   "execution_count": null,
   "metadata": {},
   "outputs": [],
   "source": []
  }
 ],
 "metadata": {
  "kernelspec": {
   "display_name": "Python 3",
   "language": "python",
   "name": "python3"
  },
  "language_info": {
   "codemirror_mode": {
    "name": "ipython",
    "version": 3
   },
   "file_extension": ".py",
   "mimetype": "text/x-python",
   "name": "python",
   "nbconvert_exporter": "python",
   "pygments_lexer": "ipython3",
   "version": "3.6.4"
  }
 },
 "nbformat": 4,
 "nbformat_minor": 2
}
